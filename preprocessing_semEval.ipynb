{
  "nbformat": 4,
  "nbformat_minor": 0,
  "metadata": {
    "colab": {
      "provenance": [],
      "collapsed_sections": [],
      "authorship_tag": "ABX9TyPJ80DKYH1zlUZ6UpfJZ2F2",
      "include_colab_link": true
    },
    "kernelspec": {
      "name": "python3",
      "display_name": "Python 3"
    },
    "language_info": {
      "name": "python"
    }
  },
  "cells": [
    {
      "cell_type": "markdown",
      "metadata": {
        "id": "view-in-github",
        "colab_type": "text"
      },
      "source": [
        "<a href=\"https://colab.research.google.com/github/simpleParadox/Private-RE/blob/main/preprocessing_semEval.ipynb\" target=\"_parent\"><img src=\"https://colab.research.google.com/assets/colab-badge.svg\" alt=\"Open In Colab\"/></a>"
      ]
    },
    {
      "cell_type": "code",
      "source": [
        "import csv\n",
        "from typing import List\n",
        "import pandas as pd"
      ],
      "metadata": {
        "id": "hRR0dOr7m_Xv"
      },
      "execution_count": null,
      "outputs": []
    },
    {
      "cell_type": "code",
      "execution_count": null,
      "metadata": {
        "colab": {
          "base_uri": "https://localhost:8080/"
        },
        "id": "rZm74nSmJAk_",
        "outputId": "251e5ebf-4771-45ee-d160-eabdca766241"
      },
      "outputs": [
        {
          "output_type": "stream",
          "name": "stdout",
          "text": [
            "Mounted at /content/drive\n"
          ]
        }
      ],
      "source": [
        "from google.colab import drive\n",
        "drive.mount('/content/drive')"
      ]
    },
    {
      "cell_type": "markdown",
      "source": [
        "###Read Semeval Data"
      ],
      "metadata": {
        "id": "oI7fZAW0mEmW"
      }
    },
    {
      "cell_type": "code",
      "source": [
        "train_directory_path = '/content/drive/MyDrive/CMPUT 622 project/data/semeval/train.txt'\n",
        "test_directory_path = '/content/drive/MyDrive/CMPUT 622 project/data/semeval/test.txt'"
      ],
      "metadata": {
        "id": "znsQNxIVmBN9"
      },
      "execution_count": null,
      "outputs": []
    },
    {
      "cell_type": "code",
      "source": [
        "relation_to_id = [\n",
        "    \"other\", \n",
        "    \"Entity-Destination(e1,e2)\",\n",
        "    \"Cause-Effect(e2,e1)\",        \n",
        "    \"Member-Collection(e2,e1)\",      \n",
        "    \"Entity-Origin(e1,e2)\",        \n",
        "    \"Message-Topic(e1,e2)\",        \n",
        "    \"Component-Whole(e2,e1)\",       \n",
        "    \"Component-Whole(e1,e2)\",       \n",
        "    \"Instrument-Agency(e2,e1)\",     \n",
        "    \"Product-Producer(e2,e1)\",     \n",
        "    \"Content-Container(e1,e2)\",     \n",
        "    \"Cause-Effect(e1,e2)\",          \n",
        "    \"Product-Producer(e1,e2)\",       \n",
        "    \"Content-Container(e2,e1)\",    \n",
        "    \"Entity-Origin(e2,e1)\",          \n",
        "    \"Message-Topic(e2,e1)\",        \n",
        "    \"Instrument-Agency(e1,e2)\",       \n",
        "    \"Member-Collection(e1,e2)\",      \n",
        "    \"Entity-Destination(e2,e1)\"]    "
      ],
      "metadata": {
        "id": "yzRHv0HGSETH"
      },
      "execution_count": null,
      "outputs": []
    },
    {
      "cell_type": "code",
      "source": [
        "def convertText_csv(path):\n",
        "  output: List[List[str]] = []\n",
        "\n",
        "  with open(path) as file:\n",
        "    lines = file.read()\n",
        "    lines =  lines.splitlines()\n",
        "\n",
        "  for line in lines:\n",
        "    line = line.strip()\n",
        "    input = line.split(sep=\"\\t\")\n",
        "    entity1 = input[0]\n",
        "    entity2 = input[1]\n",
        "    relation = relation_to_id.index(input[2])\n",
        "    sentence = input[3]\n",
        "\n",
        "    sentence = sentence.replace('<e1>', '')\n",
        "    sentence = sentence.replace('<e2>', '')\n",
        "    sentence = sentence.replace('</e1>', '')\n",
        "    sentence = sentence.replace('</e2>', '')\n",
        "    \n",
        "    output.append([sentence, entity1, entity2, relation])\n",
        "  return output\n",
        "    "
      ],
      "metadata": {
        "id": "D6tyhJDxrQFK"
      },
      "execution_count": null,
      "outputs": []
    },
    {
      "cell_type": "code",
      "source": [
        "def writeOutput(output, path):\n",
        "  with open(path, 'w', newline='') as f:\n",
        "    writer = csv.writer(f, delimiter='\\t')\n",
        "    writer.writerow([\"sentence\", \"entity1\", \"entity2\", \"relation\"])\n",
        "    for i in output:\n",
        "      writer.writerow(i)"
      ],
      "metadata": {
        "id": "U1ZrPePHsVAB"
      },
      "execution_count": null,
      "outputs": []
    },
    {
      "cell_type": "code",
      "source": [
        "def loadSemEvalDateset(outputFilename):\n",
        "  writeOutput(convertText_csv(train_directory_path), outputFilename)\n",
        "  train_data = pd.read_csv(outputFilename, encoding='utf-8', sep = '\\t')\n",
        "  labels = train_data.iloc[:,-1].values\n",
        "  features = train_data.iloc[:,:-1]\n",
        "  return features, labels"
      ],
      "metadata": {
        "id": "ZAPZhmNAHvyI"
      },
      "execution_count": null,
      "outputs": []
    },
    {
      "cell_type": "code",
      "source": [
        "loadSemEvalDateset(\"train.tsv\")"
      ],
      "metadata": {
        "colab": {
          "base_uri": "https://localhost:8080/"
        },
        "id": "1hnMFWfix6Io",
        "outputId": "9cc153cb-4ede-4fd0-a10c-95ab54980aba"
      },
      "execution_count": null,
      "outputs": [
        {
          "output_type": "stream",
          "name": "stdout",
          "text": [
            "[ 6  0  8  0 17]\n"
          ]
        }
      ]
    },
    {
      "cell_type": "code",
      "source": [
        "train_data = pd.read_csv(\"train.tsv\", encoding='utf-8', sep = '\\t')"
      ],
      "metadata": {
        "id": "DoEYIcD3s7hz"
      },
      "execution_count": null,
      "outputs": []
    },
    {
      "cell_type": "code",
      "source": [
        "train_data.head()"
      ],
      "metadata": {
        "colab": {
          "base_uri": "https://localhost:8080/",
          "height": 206
        },
        "id": "oX4NyxUZSzPB",
        "outputId": "0553173c-7a5b-4363-9fc3-dba01403806f"
      },
      "execution_count": null,
      "outputs": [
        {
          "output_type": "execute_result",
          "data": {
            "text/plain": [
              "                                            sentence        entity1  \\\n",
              "0  The system as described above has its greatest...  configuration   \n",
              "1  The  child  was carefully wrapped and bound in...          child   \n",
              "2  The  author  of a keygen uses a  disassembler ...         author   \n",
              "3         A misty  ridge  uprises from the  surge  .          ridge   \n",
              "4  The  student   association  is the voice of th...        student   \n",
              "\n",
              "        entity2  relation  \n",
              "0      elements         6  \n",
              "1        cradle         0  \n",
              "2  disassembler         8  \n",
              "3         surge         0  \n",
              "4   association        17  "
            ],
            "text/html": [
              "\n",
              "  <div id=\"df-408e2b41-cdb3-4b3b-afc8-1fa167da41fb\">\n",
              "    <div class=\"colab-df-container\">\n",
              "      <div>\n",
              "<style scoped>\n",
              "    .dataframe tbody tr th:only-of-type {\n",
              "        vertical-align: middle;\n",
              "    }\n",
              "\n",
              "    .dataframe tbody tr th {\n",
              "        vertical-align: top;\n",
              "    }\n",
              "\n",
              "    .dataframe thead th {\n",
              "        text-align: right;\n",
              "    }\n",
              "</style>\n",
              "<table border=\"1\" class=\"dataframe\">\n",
              "  <thead>\n",
              "    <tr style=\"text-align: right;\">\n",
              "      <th></th>\n",
              "      <th>sentence</th>\n",
              "      <th>entity1</th>\n",
              "      <th>entity2</th>\n",
              "      <th>relation</th>\n",
              "    </tr>\n",
              "  </thead>\n",
              "  <tbody>\n",
              "    <tr>\n",
              "      <th>0</th>\n",
              "      <td>The system as described above has its greatest...</td>\n",
              "      <td>configuration</td>\n",
              "      <td>elements</td>\n",
              "      <td>6</td>\n",
              "    </tr>\n",
              "    <tr>\n",
              "      <th>1</th>\n",
              "      <td>The  child  was carefully wrapped and bound in...</td>\n",
              "      <td>child</td>\n",
              "      <td>cradle</td>\n",
              "      <td>0</td>\n",
              "    </tr>\n",
              "    <tr>\n",
              "      <th>2</th>\n",
              "      <td>The  author  of a keygen uses a  disassembler ...</td>\n",
              "      <td>author</td>\n",
              "      <td>disassembler</td>\n",
              "      <td>8</td>\n",
              "    </tr>\n",
              "    <tr>\n",
              "      <th>3</th>\n",
              "      <td>A misty  ridge  uprises from the  surge  .</td>\n",
              "      <td>ridge</td>\n",
              "      <td>surge</td>\n",
              "      <td>0</td>\n",
              "    </tr>\n",
              "    <tr>\n",
              "      <th>4</th>\n",
              "      <td>The  student   association  is the voice of th...</td>\n",
              "      <td>student</td>\n",
              "      <td>association</td>\n",
              "      <td>17</td>\n",
              "    </tr>\n",
              "  </tbody>\n",
              "</table>\n",
              "</div>\n",
              "      <button class=\"colab-df-convert\" onclick=\"convertToInteractive('df-408e2b41-cdb3-4b3b-afc8-1fa167da41fb')\"\n",
              "              title=\"Convert this dataframe to an interactive table.\"\n",
              "              style=\"display:none;\">\n",
              "        \n",
              "  <svg xmlns=\"http://www.w3.org/2000/svg\" height=\"24px\"viewBox=\"0 0 24 24\"\n",
              "       width=\"24px\">\n",
              "    <path d=\"M0 0h24v24H0V0z\" fill=\"none\"/>\n",
              "    <path d=\"M18.56 5.44l.94 2.06.94-2.06 2.06-.94-2.06-.94-.94-2.06-.94 2.06-2.06.94zm-11 1L8.5 8.5l.94-2.06 2.06-.94-2.06-.94L8.5 2.5l-.94 2.06-2.06.94zm10 10l.94 2.06.94-2.06 2.06-.94-2.06-.94-.94-2.06-.94 2.06-2.06.94z\"/><path d=\"M17.41 7.96l-1.37-1.37c-.4-.4-.92-.59-1.43-.59-.52 0-1.04.2-1.43.59L10.3 9.45l-7.72 7.72c-.78.78-.78 2.05 0 2.83L4 21.41c.39.39.9.59 1.41.59.51 0 1.02-.2 1.41-.59l7.78-7.78 2.81-2.81c.8-.78.8-2.07 0-2.86zM5.41 20L4 18.59l7.72-7.72 1.47 1.35L5.41 20z\"/>\n",
              "  </svg>\n",
              "      </button>\n",
              "      \n",
              "  <style>\n",
              "    .colab-df-container {\n",
              "      display:flex;\n",
              "      flex-wrap:wrap;\n",
              "      gap: 12px;\n",
              "    }\n",
              "\n",
              "    .colab-df-convert {\n",
              "      background-color: #E8F0FE;\n",
              "      border: none;\n",
              "      border-radius: 50%;\n",
              "      cursor: pointer;\n",
              "      display: none;\n",
              "      fill: #1967D2;\n",
              "      height: 32px;\n",
              "      padding: 0 0 0 0;\n",
              "      width: 32px;\n",
              "    }\n",
              "\n",
              "    .colab-df-convert:hover {\n",
              "      background-color: #E2EBFA;\n",
              "      box-shadow: 0px 1px 2px rgba(60, 64, 67, 0.3), 0px 1px 3px 1px rgba(60, 64, 67, 0.15);\n",
              "      fill: #174EA6;\n",
              "    }\n",
              "\n",
              "    [theme=dark] .colab-df-convert {\n",
              "      background-color: #3B4455;\n",
              "      fill: #D2E3FC;\n",
              "    }\n",
              "\n",
              "    [theme=dark] .colab-df-convert:hover {\n",
              "      background-color: #434B5C;\n",
              "      box-shadow: 0px 1px 3px 1px rgba(0, 0, 0, 0.15);\n",
              "      filter: drop-shadow(0px 1px 2px rgba(0, 0, 0, 0.3));\n",
              "      fill: #FFFFFF;\n",
              "    }\n",
              "  </style>\n",
              "\n",
              "      <script>\n",
              "        const buttonEl =\n",
              "          document.querySelector('#df-408e2b41-cdb3-4b3b-afc8-1fa167da41fb button.colab-df-convert');\n",
              "        buttonEl.style.display =\n",
              "          google.colab.kernel.accessAllowed ? 'block' : 'none';\n",
              "\n",
              "        async function convertToInteractive(key) {\n",
              "          const element = document.querySelector('#df-408e2b41-cdb3-4b3b-afc8-1fa167da41fb');\n",
              "          const dataTable =\n",
              "            await google.colab.kernel.invokeFunction('convertToInteractive',\n",
              "                                                     [key], {});\n",
              "          if (!dataTable) return;\n",
              "\n",
              "          const docLinkHtml = 'Like what you see? Visit the ' +\n",
              "            '<a target=\"_blank\" href=https://colab.research.google.com/notebooks/data_table.ipynb>data table notebook</a>'\n",
              "            + ' to learn more about interactive tables.';\n",
              "          element.innerHTML = '';\n",
              "          dataTable['output_type'] = 'display_data';\n",
              "          await google.colab.output.renderOutput(dataTable, element);\n",
              "          const docLink = document.createElement('div');\n",
              "          docLink.innerHTML = docLinkHtml;\n",
              "          element.appendChild(docLink);\n",
              "        }\n",
              "      </script>\n",
              "    </div>\n",
              "  </div>\n",
              "  "
            ]
          },
          "metadata": {},
          "execution_count": 10
        }
      ]
    },
    {
      "cell_type": "code",
      "source": [
        "train_data.info()"
      ],
      "metadata": {
        "colab": {
          "base_uri": "https://localhost:8080/"
        },
        "id": "ChthWHAjS1Sd",
        "outputId": "266f817b-4ea4-4e2d-d767-5c113ea12f28"
      },
      "execution_count": null,
      "outputs": [
        {
          "output_type": "stream",
          "name": "stdout",
          "text": [
            "<class 'pandas.core.frame.DataFrame'>\n",
            "RangeIndex: 8000 entries, 0 to 7999\n",
            "Data columns (total 4 columns):\n",
            " #   Column    Non-Null Count  Dtype \n",
            "---  ------    --------------  ----- \n",
            " 0   sentence  8000 non-null   object\n",
            " 1   entity1   8000 non-null   object\n",
            " 2   entity2   8000 non-null   object\n",
            " 3   relation  8000 non-null   int64 \n",
            "dtypes: int64(1), object(3)\n",
            "memory usage: 250.1+ KB\n"
          ]
        }
      ]
    },
    {
      "cell_type": "code",
      "source": [
        "train_data.shape[0]"
      ],
      "metadata": {
        "colab": {
          "base_uri": "https://localhost:8080/"
        },
        "id": "J2yjXLKAS437",
        "outputId": "6f2f540c-b9fe-452c-f3a0-d76ed9e83512"
      },
      "execution_count": null,
      "outputs": [
        {
          "output_type": "execute_result",
          "data": {
            "text/plain": [
              "8000"
            ]
          },
          "metadata": {},
          "execution_count": 16
        }
      ]
    },
    {
      "cell_type": "code",
      "source": [
        "train_data[\"relation\"].value_counts()"
      ],
      "metadata": {
        "colab": {
          "base_uri": "https://localhost:8080/"
        },
        "id": "Zl7-H1SRTDm9",
        "outputId": "f2726f6d-228b-4f14-e8a7-1e3b059fb1db"
      },
      "execution_count": null,
      "outputs": [
        {
          "output_type": "execute_result",
          "data": {
            "text/plain": [
              "other                        1410\n",
              "Entity-Destination(e1,e2)     844\n",
              "Cause-Effect(e2,e1)           659\n",
              "Member-Collection(e2,e1)      612\n",
              "Entity-Origin(e1,e2)          568\n",
              "Message-Topic(e1,e2)          490\n",
              "Component-Whole(e2,e1)        471\n",
              "Component-Whole(e1,e2)        470\n",
              "Instrument-Agency(e2,e1)      407\n",
              "Product-Producer(e2,e1)       394\n",
              "Content-Container(e1,e2)      374\n",
              "Cause-Effect(e1,e2)           344\n",
              "Product-Producer(e1,e2)       323\n",
              "Content-Container(e2,e1)      166\n",
              "Entity-Origin(e2,e1)          148\n",
              "Message-Topic(e2,e1)          144\n",
              "Instrument-Agency(e1,e2)       97\n",
              "Member-Collection(e1,e2)       78\n",
              "Entity-Destination(e2,e1)       1\n",
              "Name: relation, dtype: int64"
            ]
          },
          "metadata": {},
          "execution_count": 18
        }
      ]
    },
    {
      "cell_type": "code",
      "source": [
        "train_data[\"relation\"].value_counts()"
      ],
      "metadata": {
        "colab": {
          "base_uri": "https://localhost:8080/"
        },
        "id": "yTFES6teTdMM",
        "outputId": "18b25d96-d8da-47be-8565-a2f643f831ed"
      },
      "execution_count": null,
      "outputs": [
        {
          "output_type": "execute_result",
          "data": {
            "text/plain": [
              "0     1410\n",
              "1      844\n",
              "2      659\n",
              "3      612\n",
              "4      568\n",
              "5      490\n",
              "6      471\n",
              "7      470\n",
              "8      407\n",
              "9      394\n",
              "10     374\n",
              "11     344\n",
              "12     323\n",
              "13     166\n",
              "14     148\n",
              "15     144\n",
              "16      97\n",
              "17      78\n",
              "18       1\n",
              "Name: relation, dtype: int64"
            ]
          },
          "metadata": {},
          "execution_count": 14
        }
      ]
    },
    {
      "cell_type": "code",
      "source": [
        "train_data.isnull().values.any()"
      ],
      "metadata": {
        "colab": {
          "base_uri": "https://localhost:8080/"
        },
        "id": "uhrDBncDTMLh",
        "outputId": "b9026c25-1f1e-4fb2-a740-926670a82f17"
      },
      "execution_count": null,
      "outputs": [
        {
          "output_type": "execute_result",
          "data": {
            "text/plain": [
              "False"
            ]
          },
          "metadata": {},
          "execution_count": 17
        }
      ]
    },
    {
      "cell_type": "code",
      "source": [
        "train_data.isnull().sum()"
      ],
      "metadata": {
        "colab": {
          "base_uri": "https://localhost:8080/"
        },
        "id": "n_w0Lz_hUMi7",
        "outputId": "e4494fe4-dde3-4e15-bc87-198cdd764972"
      },
      "execution_count": null,
      "outputs": [
        {
          "output_type": "execute_result",
          "data": {
            "text/plain": [
              "sentence    0\n",
              "entity1     0\n",
              "entity2     0\n",
              "relation    0\n",
              "dtype: int64"
            ]
          },
          "metadata": {},
          "execution_count": 18
        }
      ]
    },
    {
      "cell_type": "code",
      "source": [
        "for s in train_data[\"sentence\"]:\n",
        "  if \"< /e1 >\" in s:\n",
        "    print(\"found\")\n",
        "  if \"< e1 >\" in s:\n",
        "    print(\"found\")\n",
        "  if \"< e2 >\" in s:\n",
        "    print(\"found\")\n",
        "  if \"< /e1 >\" in s:\n",
        "    print(\"found\")"
      ],
      "metadata": {
        "id": "W7gkCdMuTtjv"
      },
      "execution_count": null,
      "outputs": []
    },
    {
      "cell_type": "code",
      "source": [],
      "metadata": {
        "id": "D7gfSJxsU7kP"
      },
      "execution_count": null,
      "outputs": []
    }
  ]
}