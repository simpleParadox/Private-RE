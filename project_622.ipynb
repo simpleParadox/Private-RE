{
  "cells": [
    {
      "cell_type": "markdown",
      "metadata": {
        "id": "view-in-github",
        "colab_type": "text"
      },
      "source": [
        "<a href=\"https://colab.research.google.com/github/simpleParadox/Private-RE/blob/main/project_622.ipynb\" target=\"_parent\"><img src=\"https://colab.research.google.com/assets/colab-badge.svg\" alt=\"Open In Colab\"/></a>"
      ]
    },
    {
      "cell_type": "code",
      "source": [
        "!pip install transformers --quiet\n",
        "!pip install pyvacy --quiet"
      ],
      "metadata": {
        "id": "d28l5l1hJt9c",
        "colab": {
          "base_uri": "https://localhost:8080/"
        },
        "outputId": "7339ba6c-a097-4fc7-981d-d4baab63ad68"
      },
      "execution_count": 1,
      "outputs": [
        {
          "output_type": "stream",
          "name": "stdout",
          "text": [
            "\u001b[K     |████████████████████████████████| 5.3 MB 28.9 MB/s \n",
            "\u001b[K     |████████████████████████████████| 7.6 MB 48.8 MB/s \n",
            "\u001b[K     |████████████████████████████████| 163 kB 28.1 MB/s \n",
            "\u001b[?25h  Building wheel for pyvacy (setup.py) ... \u001b[?25l\u001b[?25hdone\n"
          ]
        }
      ]
    },
    {
      "cell_type": "code",
      "execution_count": 2,
      "metadata": {
        "id": "g1NfcMtdraNr"
      },
      "outputs": [],
      "source": [
        "import torch\n",
        "import torch.nn as nn\n",
        "from torch.utils.data import Dataset, DataLoader, TensorDataset\n",
        "from torchvision import datasets\n",
        "from torchvision.transforms import ToTensor\n",
        "import torch.nn.functional as F\n",
        "import torch.optim as optim\n",
        "\n",
        "# Import the transformers library for the retrieving the BERT embeddings.\n",
        "import transformers\n",
        "from transformers import BertModel, BertTokenizer\n",
        "\n",
        "\n",
        "# Import pyvacy for privacy preserving optimizers.\n",
        "from pyvacy import optim as private_optim, analysis\n",
        "\n",
        "# Import scikit-learn packages.\n",
        "from sklearn import preprocessing\n",
        "from sklearn.model_selection import train_test_split\n",
        "from sklearn.model_selection import KFold\n",
        "from sklearn.utils import shuffle\n",
        "from sklearn.metrics import f1_score\n",
        "from sklearn.utils import gen_batches\n",
        "\n",
        "\n",
        "# Import scientific computing python packages.\n",
        "import pandas as pd\n",
        "import numpy as np      \n",
        "import matplotlib.pyplot as plt\n",
        "\n",
        "# Additional packages.\n",
        "from google.colab import drive\n",
        "from tqdm import tqdm\n",
        "import csv\n",
        "from typing import List\n",
        "\n",
        "\n",
        "# Using gpu if available.\n",
        "device = \"cuda:0\" if torch.cuda.is_available() else \"cpu\""
      ]
    },
    {
      "cell_type": "markdown",
      "metadata": {
        "id": "SqgKmx1kzALJ"
      },
      "source": [
        "## Read in Erin's tabular data and preprocess it."
      ]
    },
    {
      "cell_type": "code",
      "source": [
        "drive.mount('/content/drive')"
      ],
      "metadata": {
        "colab": {
          "base_uri": "https://localhost:8080/"
        },
        "id": "PnR6PZ6QQMXg",
        "outputId": "6789a476-aeed-4c13-b33b-94900220bf79"
      },
      "execution_count": 9,
      "outputs": [
        {
          "output_type": "stream",
          "name": "stdout",
          "text": [
            "Mounted at /content/drive\n"
          ]
        }
      ]
    },
    {
      "cell_type": "code",
      "execution_count": null,
      "metadata": {
        "id": "G7REAAxVy_lV",
        "colab": {
          "base_uri": "https://localhost:8080/"
        },
        "outputId": "e9cd9704-7568-4d37-973f-682bf904672b"
      },
      "outputs": [
        {
          "output_type": "stream",
          "name": "stdout",
          "text": [
            "Drive already mounted at /content/drive; to attempt to forcibly remount, call drive.mount(\"/content/drive\", force_remount=True).\n",
            "589617\n"
          ]
        }
      ],
      "source": [
        "# relations_path = '/content/drive/MyDrive/CMPUT 622 project/data/tabular_data/Input_all_29_relation.tsv'\n",
        "relations_path = '/content/drive/MyDrive/CMPUT 622 project/data/tabular_data/Input_500_29_relation.tsv'\n",
        "\n",
        "train_data = pd.read_csv(relations_path, encoding='utf-8', sep = '\\t')\n",
        "\n",
        "print(train_data.shape[0])"
      ]
    },
    {
      "cell_type": "code",
      "source": [
        "train_data.isnull().sum()"
      ],
      "metadata": {
        "colab": {
          "base_uri": "https://localhost:8080/"
        },
        "id": "vnxtSreJYvSD",
        "outputId": "d2e24fdb-5054-46fd-c010-882e883ef4b6"
      },
      "execution_count": null,
      "outputs": [
        {
          "output_type": "execute_result",
          "data": {
            "text/plain": [
              "table_caption          564370\n",
              "table_section_title      8792\n",
              "headers                   482\n",
              "entity pair                 0\n",
              "relation                    0\n",
              "dtype: int64"
            ]
          },
          "metadata": {},
          "execution_count": 5
        }
      ]
    },
    {
      "cell_type": "code",
      "source": [
        "train_data.head()"
      ],
      "metadata": {
        "colab": {
          "base_uri": "https://localhost:8080/",
          "height": 206
        },
        "id": "lah6wDKIZY3B",
        "outputId": "73051efb-b36c-44d0-8607-022ad1504246"
      },
      "execution_count": null,
      "outputs": [
        {
          "output_type": "execute_result",
          "data": {
            "text/plain": [
              "  table_caption table_section_title                headers  \\\n",
              "0    Recipients          Recipients  Name of the recipient   \n",
              "1    Recipients          Recipients  Name of the recipient   \n",
              "2    Recipients          Recipients  Name of the recipient   \n",
              "3    Recipients          Recipients  Name of the recipient   \n",
              "4    Recipients          Recipients  Name of the recipient   \n",
              "\n",
              "                                         entity pair  \\\n",
              "0  Nishan-e-Haider  Saif Ali Janjua Saif Ali Janj...   \n",
              "1  Nishan-e-Haider  Raja Muhammad Sarwar Raja Muh...   \n",
              "2  Nishan-e-Haider  Tufail Mohammad Tufail Mohammad    \n",
              "3  Nishan-e-Haider  Raja Aziz Bhatti Raja Aziz Bh...   \n",
              "4      Nishan-e-Haider  Rashid Minhas Rashid Minhas    \n",
              "\n",
              "                                            relation  \n",
              "0  award.award_nominated_work.award_nominations.....  \n",
              "1  award.award_nominated_work.award_nominations.....  \n",
              "2  award.award_nominated_work.award_nominations.....  \n",
              "3  award.award_nominated_work.award_nominations.....  \n",
              "4  award.award_nominated_work.award_nominations.....  "
            ],
            "text/html": [
              "\n",
              "  <div id=\"df-c5f21f0a-5938-4208-afb1-5e469133966d\">\n",
              "    <div class=\"colab-df-container\">\n",
              "      <div>\n",
              "<style scoped>\n",
              "    .dataframe tbody tr th:only-of-type {\n",
              "        vertical-align: middle;\n",
              "    }\n",
              "\n",
              "    .dataframe tbody tr th {\n",
              "        vertical-align: top;\n",
              "    }\n",
              "\n",
              "    .dataframe thead th {\n",
              "        text-align: right;\n",
              "    }\n",
              "</style>\n",
              "<table border=\"1\" class=\"dataframe\">\n",
              "  <thead>\n",
              "    <tr style=\"text-align: right;\">\n",
              "      <th></th>\n",
              "      <th>table_caption</th>\n",
              "      <th>table_section_title</th>\n",
              "      <th>headers</th>\n",
              "      <th>entity pair</th>\n",
              "      <th>relation</th>\n",
              "    </tr>\n",
              "  </thead>\n",
              "  <tbody>\n",
              "    <tr>\n",
              "      <th>0</th>\n",
              "      <td>Recipients</td>\n",
              "      <td>Recipients</td>\n",
              "      <td>Name of the recipient</td>\n",
              "      <td>Nishan-e-Haider  Saif Ali Janjua Saif Ali Janj...</td>\n",
              "      <td>award.award_nominated_work.award_nominations.....</td>\n",
              "    </tr>\n",
              "    <tr>\n",
              "      <th>1</th>\n",
              "      <td>Recipients</td>\n",
              "      <td>Recipients</td>\n",
              "      <td>Name of the recipient</td>\n",
              "      <td>Nishan-e-Haider  Raja Muhammad Sarwar Raja Muh...</td>\n",
              "      <td>award.award_nominated_work.award_nominations.....</td>\n",
              "    </tr>\n",
              "    <tr>\n",
              "      <th>2</th>\n",
              "      <td>Recipients</td>\n",
              "      <td>Recipients</td>\n",
              "      <td>Name of the recipient</td>\n",
              "      <td>Nishan-e-Haider  Tufail Mohammad Tufail Mohammad</td>\n",
              "      <td>award.award_nominated_work.award_nominations.....</td>\n",
              "    </tr>\n",
              "    <tr>\n",
              "      <th>3</th>\n",
              "      <td>Recipients</td>\n",
              "      <td>Recipients</td>\n",
              "      <td>Name of the recipient</td>\n",
              "      <td>Nishan-e-Haider  Raja Aziz Bhatti Raja Aziz Bh...</td>\n",
              "      <td>award.award_nominated_work.award_nominations.....</td>\n",
              "    </tr>\n",
              "    <tr>\n",
              "      <th>4</th>\n",
              "      <td>Recipients</td>\n",
              "      <td>Recipients</td>\n",
              "      <td>Name of the recipient</td>\n",
              "      <td>Nishan-e-Haider  Rashid Minhas Rashid Minhas</td>\n",
              "      <td>award.award_nominated_work.award_nominations.....</td>\n",
              "    </tr>\n",
              "  </tbody>\n",
              "</table>\n",
              "</div>\n",
              "      <button class=\"colab-df-convert\" onclick=\"convertToInteractive('df-c5f21f0a-5938-4208-afb1-5e469133966d')\"\n",
              "              title=\"Convert this dataframe to an interactive table.\"\n",
              "              style=\"display:none;\">\n",
              "        \n",
              "  <svg xmlns=\"http://www.w3.org/2000/svg\" height=\"24px\"viewBox=\"0 0 24 24\"\n",
              "       width=\"24px\">\n",
              "    <path d=\"M0 0h24v24H0V0z\" fill=\"none\"/>\n",
              "    <path d=\"M18.56 5.44l.94 2.06.94-2.06 2.06-.94-2.06-.94-.94-2.06-.94 2.06-2.06.94zm-11 1L8.5 8.5l.94-2.06 2.06-.94-2.06-.94L8.5 2.5l-.94 2.06-2.06.94zm10 10l.94 2.06.94-2.06 2.06-.94-2.06-.94-.94-2.06-.94 2.06-2.06.94z\"/><path d=\"M17.41 7.96l-1.37-1.37c-.4-.4-.92-.59-1.43-.59-.52 0-1.04.2-1.43.59L10.3 9.45l-7.72 7.72c-.78.78-.78 2.05 0 2.83L4 21.41c.39.39.9.59 1.41.59.51 0 1.02-.2 1.41-.59l7.78-7.78 2.81-2.81c.8-.78.8-2.07 0-2.86zM5.41 20L4 18.59l7.72-7.72 1.47 1.35L5.41 20z\"/>\n",
              "  </svg>\n",
              "      </button>\n",
              "      \n",
              "  <style>\n",
              "    .colab-df-container {\n",
              "      display:flex;\n",
              "      flex-wrap:wrap;\n",
              "      gap: 12px;\n",
              "    }\n",
              "\n",
              "    .colab-df-convert {\n",
              "      background-color: #E8F0FE;\n",
              "      border: none;\n",
              "      border-radius: 50%;\n",
              "      cursor: pointer;\n",
              "      display: none;\n",
              "      fill: #1967D2;\n",
              "      height: 32px;\n",
              "      padding: 0 0 0 0;\n",
              "      width: 32px;\n",
              "    }\n",
              "\n",
              "    .colab-df-convert:hover {\n",
              "      background-color: #E2EBFA;\n",
              "      box-shadow: 0px 1px 2px rgba(60, 64, 67, 0.3), 0px 1px 3px 1px rgba(60, 64, 67, 0.15);\n",
              "      fill: #174EA6;\n",
              "    }\n",
              "\n",
              "    [theme=dark] .colab-df-convert {\n",
              "      background-color: #3B4455;\n",
              "      fill: #D2E3FC;\n",
              "    }\n",
              "\n",
              "    [theme=dark] .colab-df-convert:hover {\n",
              "      background-color: #434B5C;\n",
              "      box-shadow: 0px 1px 3px 1px rgba(0, 0, 0, 0.15);\n",
              "      filter: drop-shadow(0px 1px 2px rgba(0, 0, 0, 0.3));\n",
              "      fill: #FFFFFF;\n",
              "    }\n",
              "  </style>\n",
              "\n",
              "      <script>\n",
              "        const buttonEl =\n",
              "          document.querySelector('#df-c5f21f0a-5938-4208-afb1-5e469133966d button.colab-df-convert');\n",
              "        buttonEl.style.display =\n",
              "          google.colab.kernel.accessAllowed ? 'block' : 'none';\n",
              "\n",
              "        async function convertToInteractive(key) {\n",
              "          const element = document.querySelector('#df-c5f21f0a-5938-4208-afb1-5e469133966d');\n",
              "          const dataTable =\n",
              "            await google.colab.kernel.invokeFunction('convertToInteractive',\n",
              "                                                     [key], {});\n",
              "          if (!dataTable) return;\n",
              "\n",
              "          const docLinkHtml = 'Like what you see? Visit the ' +\n",
              "            '<a target=\"_blank\" href=https://colab.research.google.com/notebooks/data_table.ipynb>data table notebook</a>'\n",
              "            + ' to learn more about interactive tables.';\n",
              "          element.innerHTML = '';\n",
              "          dataTable['output_type'] = 'display_data';\n",
              "          await google.colab.output.renderOutput(dataTable, element);\n",
              "          const docLink = document.createElement('div');\n",
              "          docLink.innerHTML = docLinkHtml;\n",
              "          element.appendChild(docLink);\n",
              "        }\n",
              "      </script>\n",
              "    </div>\n",
              "  </div>\n",
              "  "
            ]
          },
          "metadata": {},
          "execution_count": 6
        }
      ]
    },
    {
      "cell_type": "code",
      "execution_count": null,
      "metadata": {
        "id": "E_0cHTBd0I1O"
      },
      "outputs": [],
      "source": [
        "train_data.fillna(\"\", inplace = True)\n",
        "\n",
        "# Shuffle data so that there is a higher chance of the train and test data being from the same distribution.\n",
        "train_data = shuffle(train_data, random_state = 1)\n",
        "\n",
        "\n",
        "labels = train_data.iloc[:,-1].values\n",
        "sentences = train_data.iloc[:,:-1].values.tolist()\n",
        "\n",
        "sentences = [' '.join(sent).strip() for sent in sentences]\n",
        "\n",
        "label = preprocessing.LabelEncoder()\n",
        "y = label.fit_transform(train_data['relation'])\n",
        "label_mappings = integer_mapping = {i: l for i, l in enumerate(label.classes_)}"
      ]
    },
    {
      "cell_type": "code",
      "source": [
        "train_data[:2]"
      ],
      "metadata": {
        "colab": {
          "base_uri": "https://localhost:8080/",
          "height": 112
        },
        "id": "_GsWJMV-9ZOc",
        "outputId": "0d549c9b-1c88-4c59-8b77-8ac90b6a3b43"
      },
      "execution_count": null,
      "outputs": [
        {
          "output_type": "execute_result",
          "data": {
            "text/plain": [
              "       table_caption     table_section_title        headers  \\\n",
              "580310                Scorers and assistants  Position Name   \n",
              "128294                           Short films    Title Genre   \n",
              "\n",
              "                         entity pair                          relation  \n",
              "580310  DF  Marko Lomić Marko Lomić   soccer.football_position.players  \n",
              "128294   Bramadero Bramadero  Erotic                   film.film.genre  "
            ],
            "text/html": [
              "\n",
              "  <div id=\"df-4a171d3c-3c98-4672-9c56-6924ca4b2ac8\">\n",
              "    <div class=\"colab-df-container\">\n",
              "      <div>\n",
              "<style scoped>\n",
              "    .dataframe tbody tr th:only-of-type {\n",
              "        vertical-align: middle;\n",
              "    }\n",
              "\n",
              "    .dataframe tbody tr th {\n",
              "        vertical-align: top;\n",
              "    }\n",
              "\n",
              "    .dataframe thead th {\n",
              "        text-align: right;\n",
              "    }\n",
              "</style>\n",
              "<table border=\"1\" class=\"dataframe\">\n",
              "  <thead>\n",
              "    <tr style=\"text-align: right;\">\n",
              "      <th></th>\n",
              "      <th>table_caption</th>\n",
              "      <th>table_section_title</th>\n",
              "      <th>headers</th>\n",
              "      <th>entity pair</th>\n",
              "      <th>relation</th>\n",
              "    </tr>\n",
              "  </thead>\n",
              "  <tbody>\n",
              "    <tr>\n",
              "      <th>580310</th>\n",
              "      <td></td>\n",
              "      <td>Scorers and assistants</td>\n",
              "      <td>Position Name</td>\n",
              "      <td>DF  Marko Lomić Marko Lomić</td>\n",
              "      <td>soccer.football_position.players</td>\n",
              "    </tr>\n",
              "    <tr>\n",
              "      <th>128294</th>\n",
              "      <td></td>\n",
              "      <td>Short films</td>\n",
              "      <td>Title Genre</td>\n",
              "      <td>Bramadero Bramadero  Erotic</td>\n",
              "      <td>film.film.genre</td>\n",
              "    </tr>\n",
              "  </tbody>\n",
              "</table>\n",
              "</div>\n",
              "      <button class=\"colab-df-convert\" onclick=\"convertToInteractive('df-4a171d3c-3c98-4672-9c56-6924ca4b2ac8')\"\n",
              "              title=\"Convert this dataframe to an interactive table.\"\n",
              "              style=\"display:none;\">\n",
              "        \n",
              "  <svg xmlns=\"http://www.w3.org/2000/svg\" height=\"24px\"viewBox=\"0 0 24 24\"\n",
              "       width=\"24px\">\n",
              "    <path d=\"M0 0h24v24H0V0z\" fill=\"none\"/>\n",
              "    <path d=\"M18.56 5.44l.94 2.06.94-2.06 2.06-.94-2.06-.94-.94-2.06-.94 2.06-2.06.94zm-11 1L8.5 8.5l.94-2.06 2.06-.94-2.06-.94L8.5 2.5l-.94 2.06-2.06.94zm10 10l.94 2.06.94-2.06 2.06-.94-2.06-.94-.94-2.06-.94 2.06-2.06.94z\"/><path d=\"M17.41 7.96l-1.37-1.37c-.4-.4-.92-.59-1.43-.59-.52 0-1.04.2-1.43.59L10.3 9.45l-7.72 7.72c-.78.78-.78 2.05 0 2.83L4 21.41c.39.39.9.59 1.41.59.51 0 1.02-.2 1.41-.59l7.78-7.78 2.81-2.81c.8-.78.8-2.07 0-2.86zM5.41 20L4 18.59l7.72-7.72 1.47 1.35L5.41 20z\"/>\n",
              "  </svg>\n",
              "      </button>\n",
              "      \n",
              "  <style>\n",
              "    .colab-df-container {\n",
              "      display:flex;\n",
              "      flex-wrap:wrap;\n",
              "      gap: 12px;\n",
              "    }\n",
              "\n",
              "    .colab-df-convert {\n",
              "      background-color: #E8F0FE;\n",
              "      border: none;\n",
              "      border-radius: 50%;\n",
              "      cursor: pointer;\n",
              "      display: none;\n",
              "      fill: #1967D2;\n",
              "      height: 32px;\n",
              "      padding: 0 0 0 0;\n",
              "      width: 32px;\n",
              "    }\n",
              "\n",
              "    .colab-df-convert:hover {\n",
              "      background-color: #E2EBFA;\n",
              "      box-shadow: 0px 1px 2px rgba(60, 64, 67, 0.3), 0px 1px 3px 1px rgba(60, 64, 67, 0.15);\n",
              "      fill: #174EA6;\n",
              "    }\n",
              "\n",
              "    [theme=dark] .colab-df-convert {\n",
              "      background-color: #3B4455;\n",
              "      fill: #D2E3FC;\n",
              "    }\n",
              "\n",
              "    [theme=dark] .colab-df-convert:hover {\n",
              "      background-color: #434B5C;\n",
              "      box-shadow: 0px 1px 3px 1px rgba(0, 0, 0, 0.15);\n",
              "      filter: drop-shadow(0px 1px 2px rgba(0, 0, 0, 0.3));\n",
              "      fill: #FFFFFF;\n",
              "    }\n",
              "  </style>\n",
              "\n",
              "      <script>\n",
              "        const buttonEl =\n",
              "          document.querySelector('#df-4a171d3c-3c98-4672-9c56-6924ca4b2ac8 button.colab-df-convert');\n",
              "        buttonEl.style.display =\n",
              "          google.colab.kernel.accessAllowed ? 'block' : 'none';\n",
              "\n",
              "        async function convertToInteractive(key) {\n",
              "          const element = document.querySelector('#df-4a171d3c-3c98-4672-9c56-6924ca4b2ac8');\n",
              "          const dataTable =\n",
              "            await google.colab.kernel.invokeFunction('convertToInteractive',\n",
              "                                                     [key], {});\n",
              "          if (!dataTable) return;\n",
              "\n",
              "          const docLinkHtml = 'Like what you see? Visit the ' +\n",
              "            '<a target=\"_blank\" href=https://colab.research.google.com/notebooks/data_table.ipynb>data table notebook</a>'\n",
              "            + ' to learn more about interactive tables.';\n",
              "          element.innerHTML = '';\n",
              "          dataTable['output_type'] = 'display_data';\n",
              "          await google.colab.output.renderOutput(dataTable, element);\n",
              "          const docLink = document.createElement('div');\n",
              "          docLink.innerHTML = docLinkHtml;\n",
              "          element.appendChild(docLink);\n",
              "        }\n",
              "      </script>\n",
              "    </div>\n",
              "  </div>\n",
              "  "
            ]
          },
          "metadata": {},
          "execution_count": 8
        }
      ]
    },
    {
      "cell_type": "code",
      "source": [
        "train_data.isnull().sum()"
      ],
      "metadata": {
        "colab": {
          "base_uri": "https://localhost:8080/"
        },
        "id": "-4A35MygdeNL",
        "outputId": "4ea930e9-b9b2-4a85-99c5-c7d11b386b02"
      },
      "execution_count": null,
      "outputs": [
        {
          "output_type": "execute_result",
          "data": {
            "text/plain": [
              "table_caption          0\n",
              "table_section_title    0\n",
              "headers                0\n",
              "entity pair            0\n",
              "relation               0\n",
              "dtype: int64"
            ]
          },
          "metadata": {},
          "execution_count": 9
        }
      ]
    },
    {
      "cell_type": "markdown",
      "source": [
        "## **Read Sententence-level Data**"
      ],
      "metadata": {
        "id": "yoBTGV5vTgGN"
      }
    },
    {
      "cell_type": "code",
      "source": [
        "train_directory_path = '/content/drive/MyDrive/CMPUT 622 project/data/semeval/train.txt'\n",
        "test_directory_path = '/content/drive/MyDrive/CMPUT 622 project/data/semeval/test.txt'"
      ],
      "metadata": {
        "id": "JrPaaNhyOTX1"
      },
      "execution_count": 3,
      "outputs": []
    },
    {
      "cell_type": "code",
      "source": [
        "relation_to_id = [\n",
        "    \"other\", \n",
        "    \"Entity-Destination(e1,e2)\",\n",
        "    \"Cause-Effect(e2,e1)\",        \n",
        "    \"Member-Collection(e2,e1)\",      \n",
        "    \"Entity-Origin(e1,e2)\",        \n",
        "    \"Message-Topic(e1,e2)\",        \n",
        "    \"Component-Whole(e2,e1)\",       \n",
        "    \"Component-Whole(e1,e2)\",       \n",
        "    \"Instrument-Agency(e2,e1)\",     \n",
        "    \"Product-Producer(e2,e1)\",     \n",
        "    \"Content-Container(e1,e2)\",     \n",
        "    \"Cause-Effect(e1,e2)\",          \n",
        "    \"Product-Producer(e1,e2)\",       \n",
        "    \"Content-Container(e2,e1)\",    \n",
        "    \"Entity-Origin(e2,e1)\",          \n",
        "    \"Message-Topic(e2,e1)\",        \n",
        "    \"Instrument-Agency(e1,e2)\",       \n",
        "    \"Member-Collection(e1,e2)\",      \n",
        "    \"Entity-Destination(e2,e1)\"]    "
      ],
      "metadata": {
        "id": "yzRHv0HGSETH"
      },
      "execution_count": 4,
      "outputs": []
    },
    {
      "cell_type": "code",
      "source": [
        "def convertText_csv(path):\n",
        "  output: List[List[str]] = []\n",
        "\n",
        "  with open(path) as file:\n",
        "    lines = file.read()\n",
        "    lines =  lines.splitlines()\n",
        "\n",
        "  for line in lines:\n",
        "    line = line.strip()\n",
        "    input = line.split(sep=\"\\t\")\n",
        "    entity1 = input[0]\n",
        "    entity2 = input[1]\n",
        "    relation = relation_to_id.index(input[2])\n",
        "    sentence = input[3]\n",
        "\n",
        "    sentence = sentence.replace('<e1>', '')\n",
        "    sentence = sentence.replace('<e2>', '')\n",
        "    sentence = sentence.replace('</e1>', '')\n",
        "    sentence = sentence.replace('</e2>', '')\n",
        "    \n",
        "    output.append([sentence, entity1, entity2, relation])\n",
        "  return output"
      ],
      "metadata": {
        "id": "huf_F0XuTsw3"
      },
      "execution_count": 5,
      "outputs": []
    },
    {
      "cell_type": "code",
      "source": [
        "def writeOutput(output, path):\n",
        "  with open(path, 'w', newline='') as f:\n",
        "    writer = csv.writer(f, delimiter='\\t')\n",
        "    writer.writerow([\"sentence\", \"entity1\", \"entity2\", \"relation\"])\n",
        "    for i in output:\n",
        "      writer.writerow(i)"
      ],
      "metadata": {
        "id": "HRa1DxpiT3W2"
      },
      "execution_count": 6,
      "outputs": []
    },
    {
      "cell_type": "code",
      "source": [
        "def loadSemEvalDateset(inputFilename, outputFilename):\n",
        "  writeOutput(convertText_csv(inputFilename), outputFilename)\n",
        "  data = pd.read_csv(outputFilename, encoding='utf-8', sep = '\\t')\n",
        "\n",
        "  #data = shuffle(data, random_state = 1) \n",
        "  print(data[:1])\n",
        "\n",
        "  labels = data.iloc[:,-1].values\n",
        "  features = data.iloc[:,:-1].values.tolist()\n",
        "  sentences = [' '.join(i).strip() for i in features]\n",
        "  return sentences, labels"
      ],
      "metadata": {
        "id": "3Ek9p0qcT8Q4"
      },
      "execution_count": 10,
      "outputs": []
    },
    {
      "cell_type": "code",
      "source": [
        "x_train, y_train = loadSemEvalDateset(train_directory_path, \"train.tsv\")"
      ],
      "metadata": {
        "id": "8xnP3sQFT8Iw",
        "colab": {
          "base_uri": "https://localhost:8080/"
        },
        "outputId": "9c2fcd8f-6ee4-4019-a652-824088b7232b"
      },
      "execution_count": 11,
      "outputs": [
        {
          "output_type": "stream",
          "name": "stdout",
          "text": [
            "                                            sentence        entity1   entity2  \\\n",
            "0  The system as described above has its greatest...  configuration  elements   \n",
            "\n",
            "   relation  \n",
            "0         6  \n"
          ]
        }
      ]
    },
    {
      "cell_type": "code",
      "source": [
        "x_train[0]"
      ],
      "metadata": {
        "colab": {
          "base_uri": "https://localhost:8080/",
          "height": 54
        },
        "id": "Vm6T8TQp_Xen",
        "outputId": "1eede2ca-0fc1-4689-fbb7-5539a678c8c9"
      },
      "execution_count": 12,
      "outputs": [
        {
          "output_type": "execute_result",
          "data": {
            "text/plain": [
              "'The system as described above has its greatest application in an arrayed  configuration  of antenna  elements  . configuration elements'"
            ],
            "application/vnd.google.colaboratory.intrinsic+json": {
              "type": "string"
            }
          },
          "metadata": {},
          "execution_count": 12
        }
      ]
    },
    {
      "cell_type": "code",
      "source": [
        "x_test, y_test = loadSemEvalDateset(test_directory_path, \"test.tsv\")"
      ],
      "metadata": {
        "id": "LZYU0ZFRT797",
        "colab": {
          "base_uri": "https://localhost:8080/"
        },
        "outputId": "ce747ec0-d81b-4609-ed57-6a0c36dd6e21"
      },
      "execution_count": 13,
      "outputs": [
        {
          "output_type": "stream",
          "name": "stdout",
          "text": [
            "                                            sentence entity1 entity2  relation\n",
            "0  The most common  audits  were about  waste  an...  audits   waste         5\n"
          ]
        }
      ]
    },
    {
      "cell_type": "code",
      "source": [
        "x_test[0] # probably test and train files have same data"
      ],
      "metadata": {
        "colab": {
          "base_uri": "https://localhost:8080/",
          "height": 36
        },
        "id": "r3WOdGs9BAhZ",
        "outputId": "ab00fbb0-e87b-47de-95f6-d29306f8727f"
      },
      "execution_count": 14,
      "outputs": [
        {
          "output_type": "execute_result",
          "data": {
            "text/plain": [
              "'The most common  audits  were about  waste  and recycling . audits waste'"
            ],
            "application/vnd.google.colaboratory.intrinsic+json": {
              "type": "string"
            }
          },
          "metadata": {},
          "execution_count": 14
        }
      ]
    },
    {
      "cell_type": "code",
      "source": [
        "y_test.shape"
      ],
      "metadata": {
        "colab": {
          "base_uri": "https://localhost:8080/"
        },
        "id": "p0rT4fWQU0c9",
        "outputId": "3881ab45-6bd5-42f0-ecee-4b65ca92f4cc"
      },
      "execution_count": 15,
      "outputs": [
        {
          "output_type": "execute_result",
          "data": {
            "text/plain": [
              "(2717,)"
            ]
          },
          "metadata": {},
          "execution_count": 15
        }
      ]
    },
    {
      "cell_type": "code",
      "source": [
        "y_train = torch.tensor(y_train)\n",
        "y_train"
      ],
      "metadata": {
        "colab": {
          "base_uri": "https://localhost:8080/"
        },
        "id": "3Dt0c19MVE-0",
        "outputId": "39858481-bac7-47ed-aef5-4bc8c2b57ea3"
      },
      "execution_count": 16,
      "outputs": [
        {
          "output_type": "execute_result",
          "data": {
            "text/plain": [
              "tensor([6, 0, 8,  ..., 1, 0, 9])"
            ]
          },
          "metadata": {},
          "execution_count": 16
        }
      ]
    },
    {
      "cell_type": "markdown",
      "source": [
        "## Initialize the pretrained BERT model (uncased) and the respective tokenizer.\n",
        "\n",
        "### NOTE: We might need to tokenize and encode everything before running the model."
      ],
      "metadata": {
        "id": "A2aashzHJgXY"
      }
    },
    {
      "cell_type": "markdown",
      "source": [
        "### Get BERT embeddings"
      ],
      "metadata": {
        "id": "VEPPc8ahQ_Yw"
      }
    },
    {
      "cell_type": "code",
      "source": [
        "def get_bert_embeds_from_tokens(bert_model, encoded_inputs):\n",
        "    all_bert_embeds = []\n",
        "    bert_model = bert_model.to(device)\n",
        "    for i in tqdm(range(len(encoded_inputs))):\n",
        "        encoded_input = encoded_inputs[i]\n",
        "        encoded_input = encoded_input.to(device)\n",
        "        # print(\"encoded input: \", type(encoded_input))\n",
        "        outputs = bert_model(**encoded_input)\n",
        "        # pooler_output = outputs['pooler_output']  # We don't need this for our analysis.\n",
        "        hidden_states = outputs['last_hidden_state']\n",
        "        all_bert_embeds.append(np.squeeze(hidden_states.cpu().detach().numpy()))\n",
        "    return all_bert_embeds"
      ],
      "metadata": {
        "id": "dM4qulZcRCKI"
      },
      "execution_count": null,
      "outputs": []
    },
    {
      "cell_type": "code",
      "source": [
        "def bert_tokenize(texts, tokenizer):\n",
        "    all_encoded_inputs = []\n",
        "    # bert_model = bert_model.to(device)\n",
        "    \n",
        "    for i in tqdm(range(len(texts))):\n",
        "        text = texts[i]\n",
        "        encoded_input = tokenizer(text, return_tensors='pt', padding=\"max_length\", max_length=50, truncation=True)\n",
        "        all_encoded_inputs.append(encoded_input)\n",
        "        \n",
        "    return all_encoded_inputs"
      ],
      "metadata": {
        "id": "OXcROdZAtOM6"
      },
      "execution_count": null,
      "outputs": []
    },
    {
      "cell_type": "markdown",
      "source": [
        "### Putting the tokenizer into a function."
      ],
      "metadata": {
        "id": "YvbaAzRuO9EF"
      }
    },
    {
      "cell_type": "code",
      "source": [
        "def bert_tokenize_and_get_embeds(texts, bert_model, tokenizer):\n",
        "    all_encoded_inputs = []\n",
        "    bert_model = bert_model.to(device)\n",
        "    \n",
        "    for i in tqdm(range(len(texts))):\n",
        "        text = texts[i]\n",
        "        encoded_input = tokenizer(text, return_tensors='pt', padding=\"max_length\", max_length=50, truncation=True).to(device)\n",
        "        outputs = bert_model(**encoded_input)\n",
        "        hidden_states = outputs['last_hidden_state']\n",
        "        all_encoded_inputs.append(np.squeeze(hidden_states.cpu().detach().numpy()))\n",
        "        \n",
        "    return all_encoded_inputs"
      ],
      "metadata": {
        "id": "Oh-ouGLdK3Ka"
      },
      "execution_count": null,
      "outputs": []
    },
    {
      "cell_type": "markdown",
      "source": [
        "### Define the BertTokenizer and the BertModel from the transformers library."
      ],
      "metadata": {
        "id": "pH4-hqqKeS2g"
      }
    },
    {
      "cell_type": "code",
      "source": [
        "# Define the BertModel and the BertTokenizer\n",
        "bert_tokenizer = BertTokenizer.from_pretrained('bert-base-uncased', model_max_length=50, padding_side='right')\n",
        "bert_model = BertModel.from_pretrained('bert-base-uncased')"
      ],
      "metadata": {
        "colab": {
          "base_uri": "https://localhost:8080/"
        },
        "id": "1qBe8ySmeaN4",
        "outputId": "afef8d74-301f-4391-aa7b-864065e6650a"
      },
      "execution_count": null,
      "outputs": [
        {
          "output_type": "stream",
          "name": "stderr",
          "text": [
            "Some weights of the model checkpoint at bert-base-uncased were not used when initializing BertModel: ['cls.predictions.transform.dense.weight', 'cls.seq_relationship.weight', 'cls.predictions.transform.LayerNorm.weight', 'cls.predictions.decoder.weight', 'cls.seq_relationship.bias', 'cls.predictions.transform.dense.bias', 'cls.predictions.bias', 'cls.predictions.transform.LayerNorm.bias']\n",
            "- This IS expected if you are initializing BertModel from the checkpoint of a model trained on another task or with another architecture (e.g. initializing a BertForSequenceClassification model from a BertForPreTraining model).\n",
            "- This IS NOT expected if you are initializing BertModel from the checkpoint of a model that you expect to be exactly identical (initializing a BertForSequenceClassification model from a BertForSequenceClassification model).\n"
          ]
        }
      ]
    },
    {
      "cell_type": "markdown",
      "source": [
        "### Encode the inputs and store them so that we don't have re-encode everytime we run the model."
      ],
      "metadata": {
        "id": "2kLJATdqR0-u"
      }
    },
    {
      "cell_type": "code",
      "source": [
        "# First get the train test splits on the sentences and the labels.\n",
        "seeds = [0]\n",
        "all_train_last_hidden_states = []\n",
        "all_test_last_hidden_states = []\n",
        "# NOTE: Since colab is running out of memory, you can process this in batches and then concatenate the results. See if this works. If not, then move to Compute Canada.\n",
        "for seed in seeds:\n",
        "    X_train_texts, X_test_texts, y_train_classes, y_test_classes = train_test_split(sentences, y, random_state=seed, test_size=0.2)\n",
        "\n",
        "    # slices = gen_batches(len(X_train_texts), 1000)\n",
        "    # for batch_num, s in enumerate(slices):\n",
        "        # print(\"Batch num: \", batch_num)\n",
        "\n",
        "        # Now do the tokenization and the encoding process.\n",
        "    train_tokens = bert_tokenize(X_train_texts, bert_tokenizer)\n",
        "\n",
        "    # test_tokens = bert_tokenize(X_test_texts, bert_tokenizer)\n",
        "\n",
        "    # # Now get the encodings from BERT. NOTE: The get_bert_embeds_from_tokens function only returns the last_hidden_state vector for the input.\n",
        "    last_hidden_states_train = get_bert_embeds_from_tokens(bert_model, train_tokens)\n",
        "    # last_hidden_states_test = get_bert_embeds_from_tokens(bert_model, test_tokens)\n",
        "\n",
        "    # # Store the hidden states\n",
        "    # all_train_last_hidden_states.append(last_hidden_states_train)\n",
        "    # all_test_last_hidden_states.append(last_hidden_states_test)\n",
        "\n",
        "    all_train_last_hidden_states.append(train_tokens)\n",
        "\n",
        "    del train_tokens\n",
        "    # del last_hidden_states_train\n",
        "\n",
        "np.savez_compressed(f\"train_embeds_seed_{seed}.npz\", all_train_last_hidden_states)\n",
        "# np.savez_compressed(f\"test_embeds_seed_{seed}.npz\", all_test_last_hidden_states)"
      ],
      "metadata": {
        "colab": {
          "base_uri": "https://localhost:8080/"
        },
        "id": "xn1HqJJiazQn",
        "outputId": "cf71a4a9-5cbc-4698-d2d8-ff9690c61495"
      },
      "execution_count": null,
      "outputs": [
        {
          "output_type": "stream",
          "name": "stderr",
          "text": [
            "100%|██████████| 471693/471693 [05:19<00:00, 1475.02it/s]\n",
            " 11%|█         | 52793/471693 [27:33<4669:47:01, 40.13s/it]"
          ]
        }
      ]
    },
    {
      "cell_type": "code",
      "source": [
        "while True:\n",
        "    print(\"hello world\")"
      ],
      "metadata": {
        "id": "jU-GLQinyrAL"
      },
      "execution_count": null,
      "outputs": []
    },
    {
      "cell_type": "code",
      "source": [
        "data = np.load(\"/content/test_embeds_seed_0.npz\", allow_pickle=True)['arr_0'][0]"
      ],
      "metadata": {
        "id": "JTxa-vxmreyP"
      },
      "execution_count": null,
      "outputs": []
    },
    {
      "cell_type": "code",
      "source": [
        "data.shape"
      ],
      "metadata": {
        "colab": {
          "base_uri": "https://localhost:8080/"
        },
        "id": "alm3m8-crmcq",
        "outputId": "aed02e0e-4b01-47ba-f6fb-ab6157cc0dea"
      },
      "execution_count": null,
      "outputs": [
        {
          "output_type": "execute_result",
          "data": {
            "text/plain": [
              "(2, 50, 768)"
            ]
          },
          "metadata": {},
          "execution_count": 186
        }
      ]
    },
    {
      "cell_type": "markdown",
      "source": [
        "## Model definition and training\n",
        "\n",
        "\n"
      ],
      "metadata": {
        "id": "2kXdKcJH8hSI"
      }
    },
    {
      "cell_type": "markdown",
      "source": [
        "### Implement the model"
      ],
      "metadata": {
        "id": "3vPzEkOJv9GQ"
      }
    },
    {
      "cell_type": "code",
      "source": [
        "class erin_model(nn.Module):\n",
        "    def __init__(self, input_size: list):\n",
        "        super(erin_model,self).__init__()\n",
        "\n",
        "        # Just add one LSTM unit as the model followed by a fully connected layer and then a softmax.\n",
        "\n",
        "        self.lstm = nn.LSTM(input_size=input_size, hidden_size=1, num_layers=1)\n",
        "        self.linear = nn.Linear()\n",
        "\n",
        "    def forward(self, x):\n",
        "        x = self.lstm(x)\n",
        "        x = x.view(x.size(0), -1)\n",
        "        x = self.linear(x)\n",
        "        output = F.softmax(x)\n",
        "        return output"
      ],
      "metadata": {
        "id": "_xWoyUfr8lSL"
      },
      "execution_count": null,
      "outputs": []
    },
    {
      "cell_type": "markdown",
      "source": [
        "### Convert numpy to PyTorch TensorDataset and then into DataLoader"
      ],
      "metadata": {
        "id": "pAmBuU9ILTwQ"
      }
    },
    {
      "cell_type": "code",
      "source": [
        "# Do this separetely inside for training and test data (both features and labels)\n",
        "# Confirm if you need to convert the discrete values into one hot vectors or not. I think we need to but double check it to make sure.\n",
        "batch_size = 16\n",
        "tensor_x_train = torch.Tensor(<supply x_data_train)\n",
        "tensor_y_train = torch.Tensor(<supply y_data_train>)\n",
        "\n",
        "tensor_x_test = torch.Tensor(<supply x_data_test)\n",
        "tensor_y_test = torch.Tensor(<supply y_data_test>)\n",
        "\n",
        "train_dataset = TensorDataset(tensor_x_train, tensor_y_train)\n",
        "train_loader = DataLoader(train_dataset, batch_size=batch_size)\n",
        "\n",
        "test_dataset = TensorDataset(tensor_x_test, tensor_y_test)\n",
        "test_loader = DataLoader(test_dataset, batch_size=batch_size)"
      ],
      "metadata": {
        "id": "oPyby-r6LSS4"
      },
      "execution_count": null,
      "outputs": []
    },
    {
      "cell_type": "markdown",
      "source": [
        "### Implement training loop"
      ],
      "metadata": {
        "id": "YWgGHw-Xv5Vv"
      }
    },
    {
      "cell_type": "code",
      "source": [
        "model = erin_model(...)  # Enter input size\n",
        "model.to(device)\n",
        "optimizer = optim.DPSGD(params=model.parameters(), **training_parameters)  # Define training parameters.\n",
        "\n",
        "epsilon = analysis.epsilon(**training_parameters)\n",
        "loss_function = nn.CrossEntropyLoss()\n",
        "\n",
        "epochs = 10\n",
        "for epoch in range(epochs):\n",
        "    running_loss = 0.0\n",
        "    for i, data in enumerate(train_loader):\n",
        "        inputs, labels = data\n",
        "        inputs, labels = inputs.to(device), labels.to(device)  # Put the data on the gpu if available.\n",
        "\n",
        "        # Reset the optimizer to have zero-gradients.\n",
        "        optimizer.zero_grad()\n",
        "\n",
        "        # Forward pass.\n",
        "        outputs = model(inputs)\n",
        "        outputs.to(device)\n",
        "        \n",
        "        # Calculate loss.\n",
        "        loss = criterion(outputs, labels)\n",
        "        \n",
        "        # Calculate gradients.\n",
        "        loss.backward()\n",
        "\n",
        "        # Update weights.\n",
        "        optimizer.step()\n",
        "\n",
        "\n",
        "        # Calculate loss for debugging.\n",
        "        running_loss += loss.item()\n",
        "        if i % 2000 == 1999:    # print every 2000 mini-batches\n",
        "            print(f'[{epoch + 1}, {i + 1:5d}] loss: {running_loss / 2000:.3f}')\n",
        "            running_loss = 0.0\n",
        "        \n"
      ],
      "metadata": {
        "id": "Gj7Z_8Vqv46j"
      },
      "execution_count": null,
      "outputs": []
    },
    {
      "cell_type": "markdown",
      "source": [
        "### Evaluating model performance on test data."
      ],
      "metadata": {
        "id": "Wn-ASNdiPe3T"
      }
    },
    {
      "cell_type": "code",
      "source": [
        "correct = 0\n",
        "total = 0\n",
        "all_labels = []\n",
        "all_prediction_indices = []\n",
        "total = torch.no_grad():\n",
        "for data in test_loader:\n",
        "    inputs, labels = data\n",
        "    inputs, labels = inputs.to(device), labels.to(device)\n",
        "    outputs = net(inputs)\n",
        "    _, predicted = torch.max(outputs.data, 1)\n",
        "    all_prediction_indices.append(predicted.item())\n",
        "    total += labels.size(0)  # This is the batch_size\n",
        "    all_labels.append(label.item())\n",
        "    correct += (predicted == labels).sum().item()\n",
        "    all_labels = predict\n",
        "print(f'Accuracy of the network on the 10000 test images: {100 * correct // total} %')"
      ],
      "metadata": {
        "id": "LA-4j4DjPeH6"
      },
      "execution_count": null,
      "outputs": []
    },
    {
      "cell_type": "markdown",
      "source": [
        "### Calculate F1 of the results"
      ],
      "metadata": {
        "id": "ofQeb1ODQdCJ"
      }
    },
    {
      "cell_type": "code",
      "source": [
        "# Use all_labels and all_predictions from the previous cell."
      ],
      "metadata": {
        "id": "k8dPISSZQcYf"
      },
      "execution_count": null,
      "outputs": []
    },
    {
      "cell_type": "code",
      "source": [],
      "metadata": {
        "id": "rfR9lQE5Bp-C"
      },
      "execution_count": null,
      "outputs": []
    }
  ],
  "metadata": {
    "colab": {
      "collapsed_sections": [],
      "provenance": [],
      "include_colab_link": true
    },
    "kernelspec": {
      "display_name": "Python 3",
      "name": "python3"
    },
    "language_info": {
      "name": "python"
    },
    "accelerator": "GPU",
    "gpuClass": "standard"
  },
  "nbformat": 4,
  "nbformat_minor": 0
}