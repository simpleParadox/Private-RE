{
  "cells": [
    {
      "cell_type": "markdown",
      "metadata": {
        "id": "view-in-github",
        "colab_type": "text"
      },
      "source": [
        "<a href=\"https://colab.research.google.com/github/simpleParadox/Private-RE/blob/main/project_622.ipynb\" target=\"_parent\"><img src=\"https://colab.research.google.com/assets/colab-badge.svg\" alt=\"Open In Colab\"/></a>"
      ]
    },
    {
      "cell_type": "code",
      "source": [
        "!pip install transformers --quiet\n",
        "!pip install pyvacy --quiet"
      ],
      "metadata": {
        "id": "d28l5l1hJt9c",
        "colab": {
          "base_uri": "https://localhost:8080/"
        },
        "outputId": "06ca6960-9962-4610-b18c-3778b548e7c7"
      },
      "execution_count": 5,
      "outputs": [
        {
          "output_type": "stream",
          "name": "stdout",
          "text": [
            "  Building wheel for pyvacy (setup.py) ... \u001b[?25l\u001b[?25hdone\n"
          ]
        }
      ]
    },
    {
      "cell_type": "code",
      "execution_count": 6,
      "metadata": {
        "id": "g1NfcMtdraNr"
      },
      "outputs": [],
      "source": [
        "import torch\n",
        "from torch import nn\n",
        "from torch.utils.data import Dataset, DataLoader\n",
        "from torchvision import datasets\n",
        "from torchvision.transforms import ToTensor\n",
        "import torch.nn.functional as F\n",
        "\n",
        "# Import the transformers library for the retrieving the BERT embeddings.\n",
        "import transformers\n",
        "from transformers import BertModel, BertTokenizer\n",
        "\n",
        "\n",
        "# Import pyvacy for privacy preserving optimizers.\n",
        "from pyvacy import optim, analysis\n",
        "\n",
        "# Import scikit-learn packages.\n",
        "from sklearn import preprocessing\n",
        "from sklearn.model_selection import train_test_split\n",
        "from sklearn.model_selection import KFold\n",
        "from sklearn.utils import shuffle\n",
        "from sklearn.metrics import f1_score\n",
        "\n",
        "\n",
        "# Import scientific computing python packages.\n",
        "import pandas as pd\n",
        "import numpy as np      \n",
        "import matplotlib.pyplot as plt\n",
        "\n",
        "# Additional packages.\n",
        "from google.colab import drive\n",
        "from tqdm import tqdm\n",
        "import csv\n",
        "from typing import List"
      ]
    },
    {
      "cell_type": "code",
      "execution_count": null,
      "metadata": {
        "id": "jTUAyw0f0F_Z"
      },
      "outputs": [],
      "source": [
        "# optimizer = optim.DPSGD(params=model.parameters(), **training_parameters) \n",
        "# epsilon = analysis.epsilon(**training_parameters)\n",
        "# loss_function = ... "
      ]
    },
    {
      "cell_type": "markdown",
      "metadata": {
        "id": "SqgKmx1kzALJ"
      },
      "source": [
        "### Read in Erin's tabular data and preprocess it."
      ]
    },
    {
      "cell_type": "code",
      "execution_count": 7,
      "metadata": {
        "id": "G7REAAxVy_lV",
        "colab": {
          "base_uri": "https://localhost:8080/"
        },
        "outputId": "0db498ab-f7ef-47dd-d8ce-c11f355ce8e4"
      },
      "outputs": [
        {
          "output_type": "stream",
          "name": "stdout",
          "text": [
            "Mounted at /content/drive\n",
            "14103113\n"
          ]
        }
      ],
      "source": [
        "drive.mount('/content/drive')\n",
        "relations_path = '/content/drive/MyDrive/CMPUT 622 project/data/tabular_data/Input_all_29_relation.tsv'\n",
        "\n",
        "train_data = pd.read_csv(relations_path, encoding='utf-8', sep = '\\t')\n",
        "\n",
        "print(train_data.shape[0])"
      ]
    },
    {
      "cell_type": "code",
      "source": [
        "train_data.isnull().sum()"
      ],
      "metadata": {
        "colab": {
          "base_uri": "https://localhost:8080/"
        },
        "id": "vnxtSreJYvSD",
        "outputId": "adb4b792-73ac-405d-8120-0a92f57b6f77"
      },
      "execution_count": 8,
      "outputs": [
        {
          "output_type": "execute_result",
          "data": {
            "text/plain": [
              "table_caption          13436015\n",
              "table_section_title      429931\n",
              "headers                   11639\n",
              "entity pair                   0\n",
              "relation                      0\n",
              "dtype: int64"
            ]
          },
          "metadata": {},
          "execution_count": 8
        }
      ]
    },
    {
      "cell_type": "code",
      "source": [
        "train_data.head()"
      ],
      "metadata": {
        "colab": {
          "base_uri": "https://localhost:8080/",
          "height": 337
        },
        "id": "lah6wDKIZY3B",
        "outputId": "1dbc9f41-5fa0-45fb-b5ef-4c639d270aee"
      },
      "execution_count": 9,
      "outputs": [
        {
          "output_type": "execute_result",
          "data": {
            "text/plain": [
              "  table_caption table_section_title                headers  \\\n",
              "0    Recipients          Recipients  Name of the recipient   \n",
              "1    Recipients          Recipients  Name of the recipient   \n",
              "2    Recipients          Recipients  Name of the recipient   \n",
              "3    Recipients          Recipients  Name of the recipient   \n",
              "4    Recipients          Recipients  Name of the recipient   \n",
              "\n",
              "                                         entity pair  \\\n",
              "0  Nishan-e-Haider  Saif Ali Janjua Saif Ali Janj...   \n",
              "1  Nishan-e-Haider  Raja Muhammad Sarwar Raja Muh...   \n",
              "2  Nishan-e-Haider  Tufail Mohammad Tufail Mohammad    \n",
              "3  Nishan-e-Haider  Raja Aziz Bhatti Raja Aziz Bh...   \n",
              "4      Nishan-e-Haider  Rashid Minhas Rashid Minhas    \n",
              "\n",
              "                                            relation  \n",
              "0  award.award_nominated_work.award_nominations.....  \n",
              "1  award.award_nominated_work.award_nominations.....  \n",
              "2  award.award_nominated_work.award_nominations.....  \n",
              "3  award.award_nominated_work.award_nominations.....  \n",
              "4  award.award_nominated_work.award_nominations.....  "
            ],
            "text/html": [
              "\n",
              "  <div id=\"df-9d688e8f-bf9f-4c86-bcba-b13eb368d7ac\">\n",
              "    <div class=\"colab-df-container\">\n",
              "      <div>\n",
              "<style scoped>\n",
              "    .dataframe tbody tr th:only-of-type {\n",
              "        vertical-align: middle;\n",
              "    }\n",
              "\n",
              "    .dataframe tbody tr th {\n",
              "        vertical-align: top;\n",
              "    }\n",
              "\n",
              "    .dataframe thead th {\n",
              "        text-align: right;\n",
              "    }\n",
              "</style>\n",
              "<table border=\"1\" class=\"dataframe\">\n",
              "  <thead>\n",
              "    <tr style=\"text-align: right;\">\n",
              "      <th></th>\n",
              "      <th>table_caption</th>\n",
              "      <th>table_section_title</th>\n",
              "      <th>headers</th>\n",
              "      <th>entity pair</th>\n",
              "      <th>relation</th>\n",
              "    </tr>\n",
              "  </thead>\n",
              "  <tbody>\n",
              "    <tr>\n",
              "      <th>0</th>\n",
              "      <td>Recipients</td>\n",
              "      <td>Recipients</td>\n",
              "      <td>Name of the recipient</td>\n",
              "      <td>Nishan-e-Haider  Saif Ali Janjua Saif Ali Janj...</td>\n",
              "      <td>award.award_nominated_work.award_nominations.....</td>\n",
              "    </tr>\n",
              "    <tr>\n",
              "      <th>1</th>\n",
              "      <td>Recipients</td>\n",
              "      <td>Recipients</td>\n",
              "      <td>Name of the recipient</td>\n",
              "      <td>Nishan-e-Haider  Raja Muhammad Sarwar Raja Muh...</td>\n",
              "      <td>award.award_nominated_work.award_nominations.....</td>\n",
              "    </tr>\n",
              "    <tr>\n",
              "      <th>2</th>\n",
              "      <td>Recipients</td>\n",
              "      <td>Recipients</td>\n",
              "      <td>Name of the recipient</td>\n",
              "      <td>Nishan-e-Haider  Tufail Mohammad Tufail Mohammad</td>\n",
              "      <td>award.award_nominated_work.award_nominations.....</td>\n",
              "    </tr>\n",
              "    <tr>\n",
              "      <th>3</th>\n",
              "      <td>Recipients</td>\n",
              "      <td>Recipients</td>\n",
              "      <td>Name of the recipient</td>\n",
              "      <td>Nishan-e-Haider  Raja Aziz Bhatti Raja Aziz Bh...</td>\n",
              "      <td>award.award_nominated_work.award_nominations.....</td>\n",
              "    </tr>\n",
              "    <tr>\n",
              "      <th>4</th>\n",
              "      <td>Recipients</td>\n",
              "      <td>Recipients</td>\n",
              "      <td>Name of the recipient</td>\n",
              "      <td>Nishan-e-Haider  Rashid Minhas Rashid Minhas</td>\n",
              "      <td>award.award_nominated_work.award_nominations.....</td>\n",
              "    </tr>\n",
              "  </tbody>\n",
              "</table>\n",
              "</div>\n",
              "      <button class=\"colab-df-convert\" onclick=\"convertToInteractive('df-9d688e8f-bf9f-4c86-bcba-b13eb368d7ac')\"\n",
              "              title=\"Convert this dataframe to an interactive table.\"\n",
              "              style=\"display:none;\">\n",
              "        \n",
              "  <svg xmlns=\"http://www.w3.org/2000/svg\" height=\"24px\"viewBox=\"0 0 24 24\"\n",
              "       width=\"24px\">\n",
              "    <path d=\"M0 0h24v24H0V0z\" fill=\"none\"/>\n",
              "    <path d=\"M18.56 5.44l.94 2.06.94-2.06 2.06-.94-2.06-.94-.94-2.06-.94 2.06-2.06.94zm-11 1L8.5 8.5l.94-2.06 2.06-.94-2.06-.94L8.5 2.5l-.94 2.06-2.06.94zm10 10l.94 2.06.94-2.06 2.06-.94-2.06-.94-.94-2.06-.94 2.06-2.06.94z\"/><path d=\"M17.41 7.96l-1.37-1.37c-.4-.4-.92-.59-1.43-.59-.52 0-1.04.2-1.43.59L10.3 9.45l-7.72 7.72c-.78.78-.78 2.05 0 2.83L4 21.41c.39.39.9.59 1.41.59.51 0 1.02-.2 1.41-.59l7.78-7.78 2.81-2.81c.8-.78.8-2.07 0-2.86zM5.41 20L4 18.59l7.72-7.72 1.47 1.35L5.41 20z\"/>\n",
              "  </svg>\n",
              "      </button>\n",
              "      \n",
              "  <style>\n",
              "    .colab-df-container {\n",
              "      display:flex;\n",
              "      flex-wrap:wrap;\n",
              "      gap: 12px;\n",
              "    }\n",
              "\n",
              "    .colab-df-convert {\n",
              "      background-color: #E8F0FE;\n",
              "      border: none;\n",
              "      border-radius: 50%;\n",
              "      cursor: pointer;\n",
              "      display: none;\n",
              "      fill: #1967D2;\n",
              "      height: 32px;\n",
              "      padding: 0 0 0 0;\n",
              "      width: 32px;\n",
              "    }\n",
              "\n",
              "    .colab-df-convert:hover {\n",
              "      background-color: #E2EBFA;\n",
              "      box-shadow: 0px 1px 2px rgba(60, 64, 67, 0.3), 0px 1px 3px 1px rgba(60, 64, 67, 0.15);\n",
              "      fill: #174EA6;\n",
              "    }\n",
              "\n",
              "    [theme=dark] .colab-df-convert {\n",
              "      background-color: #3B4455;\n",
              "      fill: #D2E3FC;\n",
              "    }\n",
              "\n",
              "    [theme=dark] .colab-df-convert:hover {\n",
              "      background-color: #434B5C;\n",
              "      box-shadow: 0px 1px 3px 1px rgba(0, 0, 0, 0.15);\n",
              "      filter: drop-shadow(0px 1px 2px rgba(0, 0, 0, 0.3));\n",
              "      fill: #FFFFFF;\n",
              "    }\n",
              "  </style>\n",
              "\n",
              "      <script>\n",
              "        const buttonEl =\n",
              "          document.querySelector('#df-9d688e8f-bf9f-4c86-bcba-b13eb368d7ac button.colab-df-convert');\n",
              "        buttonEl.style.display =\n",
              "          google.colab.kernel.accessAllowed ? 'block' : 'none';\n",
              "\n",
              "        async function convertToInteractive(key) {\n",
              "          const element = document.querySelector('#df-9d688e8f-bf9f-4c86-bcba-b13eb368d7ac');\n",
              "          const dataTable =\n",
              "            await google.colab.kernel.invokeFunction('convertToInteractive',\n",
              "                                                     [key], {});\n",
              "          if (!dataTable) return;\n",
              "\n",
              "          const docLinkHtml = 'Like what you see? Visit the ' +\n",
              "            '<a target=\"_blank\" href=https://colab.research.google.com/notebooks/data_table.ipynb>data table notebook</a>'\n",
              "            + ' to learn more about interactive tables.';\n",
              "          element.innerHTML = '';\n",
              "          dataTable['output_type'] = 'display_data';\n",
              "          await google.colab.output.renderOutput(dataTable, element);\n",
              "          const docLink = document.createElement('div');\n",
              "          docLink.innerHTML = docLinkHtml;\n",
              "          element.appendChild(docLink);\n",
              "        }\n",
              "      </script>\n",
              "    </div>\n",
              "  </div>\n",
              "  "
            ]
          },
          "metadata": {},
          "execution_count": 9
        }
      ]
    },
    {
      "cell_type": "code",
      "execution_count": 10,
      "metadata": {
        "id": "E_0cHTBd0I1O"
      },
      "outputs": [],
      "source": [
        "train_data.fillna(\"\", inplace = True)\n",
        "\n",
        "# Shuffle data so that there is a higher chance of the train and test data being from the same distribution.\n",
        "train_data = shuffle(train_data, random_state = 1)\n",
        "\n",
        "\n",
        "labels = train_data.iloc[:,-1].values\n",
        "sentences = train_data.iloc[:,:-1].values.tolist()\n",
        "\n",
        "sentences = [' '.join(sent).strip() for sent in sentences]\n",
        "\n",
        "label = preprocessing.LabelEncoder()\n",
        "y = label.fit_transform(train_data['relation'])\n",
        "label_mappings = integer_mapping = {i: l for i, l in enumerate(label.classes_)}"
      ]
    },
    {
      "cell_type": "code",
      "source": [
        "train_data[:2]"
      ],
      "metadata": {
        "colab": {
          "base_uri": "https://localhost:8080/",
          "height": 112
        },
        "id": "_GsWJMV-9ZOc",
        "outputId": "b9ad8fb5-4a7b-4b3a-f3eb-29e0ada45b6e"
      },
      "execution_count": 11,
      "outputs": [
        {
          "output_type": "execute_result",
          "data": {
            "text/plain": [
              "        table_caption   table_section_title headers  \\\n",
              "2813793                Selected filmography   Title   \n",
              "6273720                       1992–93 squad    Born   \n",
              "\n",
              "                                  entity pair  \\\n",
              "2813793  Hedda Hopper  Miami Miami 1924 film    \n",
              "6273720        Turkey Turkey   Ankara Ankara    \n",
              "\n",
              "                                              relation  \n",
              "2813793  film.performance.actor..film.performance.film  \n",
              "6273720                     location.location.contains  "
            ],
            "text/html": [
              "\n",
              "  <div id=\"df-ce848d8e-f62b-4273-9956-80c3f48eadd1\">\n",
              "    <div class=\"colab-df-container\">\n",
              "      <div>\n",
              "<style scoped>\n",
              "    .dataframe tbody tr th:only-of-type {\n",
              "        vertical-align: middle;\n",
              "    }\n",
              "\n",
              "    .dataframe tbody tr th {\n",
              "        vertical-align: top;\n",
              "    }\n",
              "\n",
              "    .dataframe thead th {\n",
              "        text-align: right;\n",
              "    }\n",
              "</style>\n",
              "<table border=\"1\" class=\"dataframe\">\n",
              "  <thead>\n",
              "    <tr style=\"text-align: right;\">\n",
              "      <th></th>\n",
              "      <th>table_caption</th>\n",
              "      <th>table_section_title</th>\n",
              "      <th>headers</th>\n",
              "      <th>entity pair</th>\n",
              "      <th>relation</th>\n",
              "    </tr>\n",
              "  </thead>\n",
              "  <tbody>\n",
              "    <tr>\n",
              "      <th>2813793</th>\n",
              "      <td></td>\n",
              "      <td>Selected filmography</td>\n",
              "      <td>Title</td>\n",
              "      <td>Hedda Hopper  Miami Miami 1924 film</td>\n",
              "      <td>film.performance.actor..film.performance.film</td>\n",
              "    </tr>\n",
              "    <tr>\n",
              "      <th>6273720</th>\n",
              "      <td></td>\n",
              "      <td>1992–93 squad</td>\n",
              "      <td>Born</td>\n",
              "      <td>Turkey Turkey   Ankara Ankara</td>\n",
              "      <td>location.location.contains</td>\n",
              "    </tr>\n",
              "  </tbody>\n",
              "</table>\n",
              "</div>\n",
              "      <button class=\"colab-df-convert\" onclick=\"convertToInteractive('df-ce848d8e-f62b-4273-9956-80c3f48eadd1')\"\n",
              "              title=\"Convert this dataframe to an interactive table.\"\n",
              "              style=\"display:none;\">\n",
              "        \n",
              "  <svg xmlns=\"http://www.w3.org/2000/svg\" height=\"24px\"viewBox=\"0 0 24 24\"\n",
              "       width=\"24px\">\n",
              "    <path d=\"M0 0h24v24H0V0z\" fill=\"none\"/>\n",
              "    <path d=\"M18.56 5.44l.94 2.06.94-2.06 2.06-.94-2.06-.94-.94-2.06-.94 2.06-2.06.94zm-11 1L8.5 8.5l.94-2.06 2.06-.94-2.06-.94L8.5 2.5l-.94 2.06-2.06.94zm10 10l.94 2.06.94-2.06 2.06-.94-2.06-.94-.94-2.06-.94 2.06-2.06.94z\"/><path d=\"M17.41 7.96l-1.37-1.37c-.4-.4-.92-.59-1.43-.59-.52 0-1.04.2-1.43.59L10.3 9.45l-7.72 7.72c-.78.78-.78 2.05 0 2.83L4 21.41c.39.39.9.59 1.41.59.51 0 1.02-.2 1.41-.59l7.78-7.78 2.81-2.81c.8-.78.8-2.07 0-2.86zM5.41 20L4 18.59l7.72-7.72 1.47 1.35L5.41 20z\"/>\n",
              "  </svg>\n",
              "      </button>\n",
              "      \n",
              "  <style>\n",
              "    .colab-df-container {\n",
              "      display:flex;\n",
              "      flex-wrap:wrap;\n",
              "      gap: 12px;\n",
              "    }\n",
              "\n",
              "    .colab-df-convert {\n",
              "      background-color: #E8F0FE;\n",
              "      border: none;\n",
              "      border-radius: 50%;\n",
              "      cursor: pointer;\n",
              "      display: none;\n",
              "      fill: #1967D2;\n",
              "      height: 32px;\n",
              "      padding: 0 0 0 0;\n",
              "      width: 32px;\n",
              "    }\n",
              "\n",
              "    .colab-df-convert:hover {\n",
              "      background-color: #E2EBFA;\n",
              "      box-shadow: 0px 1px 2px rgba(60, 64, 67, 0.3), 0px 1px 3px 1px rgba(60, 64, 67, 0.15);\n",
              "      fill: #174EA6;\n",
              "    }\n",
              "\n",
              "    [theme=dark] .colab-df-convert {\n",
              "      background-color: #3B4455;\n",
              "      fill: #D2E3FC;\n",
              "    }\n",
              "\n",
              "    [theme=dark] .colab-df-convert:hover {\n",
              "      background-color: #434B5C;\n",
              "      box-shadow: 0px 1px 3px 1px rgba(0, 0, 0, 0.15);\n",
              "      filter: drop-shadow(0px 1px 2px rgba(0, 0, 0, 0.3));\n",
              "      fill: #FFFFFF;\n",
              "    }\n",
              "  </style>\n",
              "\n",
              "      <script>\n",
              "        const buttonEl =\n",
              "          document.querySelector('#df-ce848d8e-f62b-4273-9956-80c3f48eadd1 button.colab-df-convert');\n",
              "        buttonEl.style.display =\n",
              "          google.colab.kernel.accessAllowed ? 'block' : 'none';\n",
              "\n",
              "        async function convertToInteractive(key) {\n",
              "          const element = document.querySelector('#df-ce848d8e-f62b-4273-9956-80c3f48eadd1');\n",
              "          const dataTable =\n",
              "            await google.colab.kernel.invokeFunction('convertToInteractive',\n",
              "                                                     [key], {});\n",
              "          if (!dataTable) return;\n",
              "\n",
              "          const docLinkHtml = 'Like what you see? Visit the ' +\n",
              "            '<a target=\"_blank\" href=https://colab.research.google.com/notebooks/data_table.ipynb>data table notebook</a>'\n",
              "            + ' to learn more about interactive tables.';\n",
              "          element.innerHTML = '';\n",
              "          dataTable['output_type'] = 'display_data';\n",
              "          await google.colab.output.renderOutput(dataTable, element);\n",
              "          const docLink = document.createElement('div');\n",
              "          docLink.innerHTML = docLinkHtml;\n",
              "          element.appendChild(docLink);\n",
              "        }\n",
              "      </script>\n",
              "    </div>\n",
              "  </div>\n",
              "  "
            ]
          },
          "metadata": {},
          "execution_count": 11
        }
      ]
    },
    {
      "cell_type": "code",
      "source": [
        "train_data.isnull().sum()"
      ],
      "metadata": {
        "colab": {
          "base_uri": "https://localhost:8080/"
        },
        "id": "-4A35MygdeNL",
        "outputId": "663543b8-55f4-4091-8cac-eb013fe61f90"
      },
      "execution_count": 15,
      "outputs": [
        {
          "output_type": "execute_result",
          "data": {
            "text/plain": [
              "table_caption          0\n",
              "table_section_title    0\n",
              "headers                0\n",
              "entity pair            0\n",
              "relation               0\n",
              "dtype: int64"
            ]
          },
          "metadata": {},
          "execution_count": 15
        }
      ]
    },
    {
      "cell_type": "markdown",
      "source": [
        "###**Read Sententence-level Data**"
      ],
      "metadata": {
        "id": "yoBTGV5vTgGN"
      }
    },
    {
      "cell_type": "code",
      "source": [
        "train_directory_path = '/content/drive/MyDrive/CMPUT 622 project/data/semeval/train.txt'\n",
        "test_directory_path = '/content/drive/MyDrive/CMPUT 622 project/data/semeval/test.txt'"
      ],
      "metadata": {
        "id": "JrPaaNhyOTX1"
      },
      "execution_count": 16,
      "outputs": []
    },
    {
      "cell_type": "code",
      "source": [
        "relation_to_id = [\n",
        "    \"other\", \n",
        "    \"Entity-Destination(e1,e2)\",\n",
        "    \"Cause-Effect(e2,e1)\",        \n",
        "    \"Member-Collection(e2,e1)\",      \n",
        "    \"Entity-Origin(e1,e2)\",        \n",
        "    \"Message-Topic(e1,e2)\",        \n",
        "    \"Component-Whole(e2,e1)\",       \n",
        "    \"Component-Whole(e1,e2)\",       \n",
        "    \"Instrument-Agency(e2,e1)\",     \n",
        "    \"Product-Producer(e2,e1)\",     \n",
        "    \"Content-Container(e1,e2)\",     \n",
        "    \"Cause-Effect(e1,e2)\",          \n",
        "    \"Product-Producer(e1,e2)\",       \n",
        "    \"Content-Container(e2,e1)\",    \n",
        "    \"Entity-Origin(e2,e1)\",          \n",
        "    \"Message-Topic(e2,e1)\",        \n",
        "    \"Instrument-Agency(e1,e2)\",       \n",
        "    \"Member-Collection(e1,e2)\",      \n",
        "    \"Entity-Destination(e2,e1)\"]    "
      ],
      "metadata": {
        "id": "yzRHv0HGSETH"
      },
      "execution_count": 17,
      "outputs": []
    },
    {
      "cell_type": "code",
      "source": [
        "def convertText_csv(path):\n",
        "  output: List[List[str]] = []\n",
        "\n",
        "  with open(path) as file:\n",
        "    lines = file.read()\n",
        "    lines =  lines.splitlines()\n",
        "\n",
        "  for line in lines:\n",
        "    line = line.strip()\n",
        "    input = line.split(sep=\"\\t\")\n",
        "    entity1 = input[0]\n",
        "    entity2 = input[1]\n",
        "    relation = relation_to_id.index(input[2])\n",
        "    sentence = input[3]\n",
        "\n",
        "    sentence = sentence.replace('<e1>', '')\n",
        "    sentence = sentence.replace('<e2>', '')\n",
        "    sentence = sentence.replace('</e1>', '')\n",
        "    sentence = sentence.replace('</e2>', '')\n",
        "    \n",
        "    output.append([sentence, entity1, entity2, relation])\n",
        "  return output"
      ],
      "metadata": {
        "id": "huf_F0XuTsw3"
      },
      "execution_count": 18,
      "outputs": []
    },
    {
      "cell_type": "code",
      "source": [
        "def writeOutput(output, path):\n",
        "  with open(path, 'w', newline='') as f:\n",
        "    writer = csv.writer(f, delimiter='\\t')\n",
        "    writer.writerow([\"sentence\", \"entity1\", \"entity2\", \"relation\"])\n",
        "    for i in output:\n",
        "      writer.writerow(i)"
      ],
      "metadata": {
        "id": "HRa1DxpiT3W2"
      },
      "execution_count": 19,
      "outputs": []
    },
    {
      "cell_type": "code",
      "source": [
        "def loadSemEvalDateset(outputFilename):\n",
        "  writeOutput(convertText_csv(train_directory_path), outputFilename)\n",
        "  data = pd.read_csv(outputFilename, encoding='utf-8', sep = '\\t')\n",
        "\n",
        "  #data = shuffle(data, random_state = 1) \n",
        "  print(data[:1])\n",
        "\n",
        "  labels = data.iloc[:,-1].values\n",
        "  features = data.iloc[:,:-1].values.tolist()\n",
        "  sentences = [' '.join(i).strip() for i in features]\n",
        "  return sentences, labels"
      ],
      "metadata": {
        "id": "3Ek9p0qcT8Q4"
      },
      "execution_count": 51,
      "outputs": []
    },
    {
      "cell_type": "code",
      "source": [
        "x_train, y_train = loadSemEvalDateset(\"train.tsv\")"
      ],
      "metadata": {
        "id": "8xnP3sQFT8Iw",
        "colab": {
          "base_uri": "https://localhost:8080/"
        },
        "outputId": "04bea90d-812a-4130-8cc3-9242a898563e"
      },
      "execution_count": 52,
      "outputs": [
        {
          "output_type": "stream",
          "name": "stdout",
          "text": [
            "                                            sentence        entity1   entity2  \\\n",
            "0  The system as described above has its greatest...  configuration  elements   \n",
            "\n",
            "   relation  \n",
            "0         6  \n"
          ]
        }
      ]
    },
    {
      "cell_type": "code",
      "source": [
        "x_train[0]"
      ],
      "metadata": {
        "colab": {
          "base_uri": "https://localhost:8080/",
          "height": 54
        },
        "id": "Vm6T8TQp_Xen",
        "outputId": "4c244a14-d098-4dbd-fdfd-2ea9064697b6"
      },
      "execution_count": 53,
      "outputs": [
        {
          "output_type": "execute_result",
          "data": {
            "text/plain": [
              "'The system as described above has its greatest application in an arrayed  configuration  of antenna  elements  . configuration elements'"
            ],
            "application/vnd.google.colaboratory.intrinsic+json": {
              "type": "string"
            }
          },
          "metadata": {},
          "execution_count": 53
        }
      ]
    },
    {
      "cell_type": "code",
      "source": [
        "x_test, y_test = loadSemEvalDateset(\"test.tsv\")"
      ],
      "metadata": {
        "id": "LZYU0ZFRT797",
        "colab": {
          "base_uri": "https://localhost:8080/"
        },
        "outputId": "843f362c-5c55-4320-cd02-7ddd74113e5b"
      },
      "execution_count": 54,
      "outputs": [
        {
          "output_type": "stream",
          "name": "stdout",
          "text": [
            "                                            sentence        entity1   entity2  \\\n",
            "0  The system as described above has its greatest...  configuration  elements   \n",
            "\n",
            "   relation  \n",
            "0         6  \n"
          ]
        }
      ]
    },
    {
      "cell_type": "code",
      "source": [
        "x_test[0] # probably test and train files have same data"
      ],
      "metadata": {
        "colab": {
          "base_uri": "https://localhost:8080/",
          "height": 54
        },
        "id": "r3WOdGs9BAhZ",
        "outputId": "9f834ef7-47da-4a57-f7d3-ee9739dd3fa8"
      },
      "execution_count": 57,
      "outputs": [
        {
          "output_type": "execute_result",
          "data": {
            "text/plain": [
              "'The system as described above has its greatest application in an arrayed  configuration  of antenna  elements  . configuration elements'"
            ],
            "application/vnd.google.colaboratory.intrinsic+json": {
              "type": "string"
            }
          },
          "metadata": {},
          "execution_count": 57
        }
      ]
    },
    {
      "cell_type": "code",
      "source": [
        "y_test.shape"
      ],
      "metadata": {
        "colab": {
          "base_uri": "https://localhost:8080/"
        },
        "id": "p0rT4fWQU0c9",
        "outputId": "4dcb0a66-1bdf-416b-aa4e-b0cf39e57247"
      },
      "execution_count": 56,
      "outputs": [
        {
          "output_type": "execute_result",
          "data": {
            "text/plain": [
              "(8000,)"
            ]
          },
          "metadata": {},
          "execution_count": 56
        }
      ]
    },
    {
      "cell_type": "code",
      "source": [
        "y_train = torch.tensor(y_train)\n",
        "y_train"
      ],
      "metadata": {
        "colab": {
          "base_uri": "https://localhost:8080/"
        },
        "id": "3Dt0c19MVE-0",
        "outputId": "680b5ee6-3bac-4930-c407-9287eeafd6cf"
      },
      "execution_count": null,
      "outputs": [
        {
          "output_type": "stream",
          "name": "stderr",
          "text": [
            "/usr/local/lib/python3.7/dist-packages/ipykernel_launcher.py:1: UserWarning: To copy construct from a tensor, it is recommended to use sourceTensor.clone().detach() or sourceTensor.clone().detach().requires_grad_(True), rather than torch.tensor(sourceTensor).\n",
            "  \"\"\"Entry point for launching an IPython kernel.\n"
          ]
        },
        {
          "output_type": "execute_result",
          "data": {
            "text/plain": [
              "tensor([6, 0, 8,  ..., 1, 0, 9])"
            ]
          },
          "metadata": {},
          "execution_count": 40
        }
      ]
    },
    {
      "cell_type": "markdown",
      "source": [
        "## Initialize the pretrained BERT model (uncased) and the respective tokenizer.\n",
        "\n",
        "### NOTE: We might need to tokenize and encode everything before running the model."
      ],
      "metadata": {
        "id": "A2aashzHJgXY"
      }
    },
    {
      "cell_type": "markdown",
      "source": [
        "### Putting the tokenizer into a function."
      ],
      "metadata": {
        "id": "YvbaAzRuO9EF"
      }
    },
    {
      "cell_type": "code",
      "source": [
        "def bert_tokenize(texts, tokenizer):\n",
        "    all_encoded_inputs = []\n",
        "    # print(\"texts: \", texts)\n",
        "    \n",
        "    for i in tqdm(range(len(texts))):\n",
        "        text = texts[i]\n",
        "        # text = text[:max_len-2]\n",
        "        # input_sequence = [\"[CLS]\"] + text + [\"[SEP]\"]\n",
        "        # pad_len = max_len-len(input_sequence)\"\"\n",
        "        encoded_input = tokenizer(text, return_tensors='pt', padding=\"max_length\", max_length=50, truncation=True)\n",
        "        all_encoded_inputs.append(encoded_input)\n",
        "        \n",
        "    return all_encoded_inputs"
      ],
      "metadata": {
        "id": "Oh-ouGLdK3Ka"
      },
      "execution_count": null,
      "outputs": []
    },
    {
      "cell_type": "markdown",
      "source": [
        "### Get BERT embeddings"
      ],
      "metadata": {
        "id": "VEPPc8ahQ_Yw"
      }
    },
    {
      "cell_type": "code",
      "source": [
        "def get_bert_embeds_from_tokens(bert_model, encoded_inputs):\n",
        "    all_bert_embeds = []\n",
        "    for i in tqdm(range(len(encoded_inputs))):\n",
        "        encoded_input = encoded_inputs[i]\n",
        "        # print(\"encoded input: \", type(encoded_input))\n",
        "        outputs = bert_model(**encoded_input)\n",
        "        # pooler_output = outputs['pooler_output']  # We don't need this for our analysis.\n",
        "        hidden_states = outputs['last_hidden_state']\n",
        "        all_bert_embeds.append(np.squeeze(hidden_states.detach().numpy()))\n",
        "    return all_bert_embeds"
      ],
      "metadata": {
        "id": "dM4qulZcRCKI"
      },
      "execution_count": null,
      "outputs": []
    },
    {
      "cell_type": "markdown",
      "source": [
        "### Define the BertTokenizer and the BertModel from the transformers library."
      ],
      "metadata": {
        "id": "pH4-hqqKeS2g"
      }
    },
    {
      "cell_type": "code",
      "source": [
        "# Define the BertModel and the BertTokenizer\n",
        "bert_tokenizer = BertTokenizer.from_pretrained('bert-base-uncased', model_max_length=50, padding_side='right')\n",
        "bert_model = BertModel.from_pretrained('bert-base-uncased')"
      ],
      "metadata": {
        "colab": {
          "base_uri": "https://localhost:8080/"
        },
        "id": "1qBe8ySmeaN4",
        "outputId": "947f1bb1-105e-4d9f-a9f9-360bad01ce6e"
      },
      "execution_count": null,
      "outputs": [
        {
          "output_type": "stream",
          "name": "stderr",
          "text": [
            "Some weights of the model checkpoint at bert-base-uncased were not used when initializing BertModel: ['cls.seq_relationship.bias', 'cls.predictions.transform.LayerNorm.weight', 'cls.predictions.transform.dense.weight', 'cls.seq_relationship.weight', 'cls.predictions.decoder.weight', 'cls.predictions.transform.dense.bias', 'cls.predictions.transform.LayerNorm.bias', 'cls.predictions.bias']\n",
            "- This IS expected if you are initializing BertModel from the checkpoint of a model trained on another task or with another architecture (e.g. initializing a BertForSequenceClassification model from a BertForPreTraining model).\n",
            "- This IS NOT expected if you are initializing BertModel from the checkpoint of a model that you expect to be exactly identical (initializing a BertForSequenceClassification model from a BertForSequenceClassification model).\n"
          ]
        }
      ]
    },
    {
      "cell_type": "markdown",
      "source": [
        "### Encode the inputs and store them so that we don't have re-encode everytime we run the model."
      ],
      "metadata": {
        "id": "2kLJATdqR0-u"
      }
    },
    {
      "cell_type": "code",
      "source": [
        "# First get the train test splits on the sentences and the labels.\n",
        "seeds = [0]\n",
        "all_train_last_hidden_states = []\n",
        "all_test_last_hidden_states = []\n",
        "# NOTE: Since colab is running out of memory, you can process this in batches and then concatenate the results. See if this works. If not, then move to Compute Canada.\n",
        "for seed in seeds:\n",
        "    X_train_texts, X_test_texts, y_train_classes, y_test_classes = train_test_split(sentences, y, random_state=seed, test_size=0.2)\n",
        "\n",
        "    \n",
        "    # Now do the tokenization and the encoding process.\n",
        "    train_tokens = bert_tokenize(X_train_texts, bert_tokenizer)\n",
        "    test_tokens = bert_tokenize(X_test_texts, bert_tokenizer)\n",
        "\n",
        "    # # Now get the encodings from BERT. NOTE: The get_bert_embeds_from_tokens function only returns the last_hidden_state vector for the input.\n",
        "    last_hidden_states_train = get_bert_embeds_from_tokens(bert_model, train_tokens)\n",
        "    last_hidden_states_test = get_bert_embeds_from_tokens(bert_model, test_tokens)\n",
        "\n",
        "\n",
        "    # # Store the hidden states\n",
        "    all_train_last_hidden_states.append(last_hidden_states_train)\n",
        "    all_test_last_hidden_states.append(last_hidden_states_test)\n",
        "\n",
        "np.savez_compressed(f\"train_embeds_seed_{seed}.npz\", all_train_last_hidden_states)\n",
        "np.savez_compressed(f\"test_embeds_seed_{seed}.npz\", all_test_last_hidden_states)"
      ],
      "metadata": {
        "colab": {
          "base_uri": "https://localhost:8080/"
        },
        "id": "xn1HqJJiazQn",
        "outputId": "8b47fe52-9b6f-4c6b-f478-c27e56e44034"
      },
      "execution_count": null,
      "outputs": [
        {
          "output_type": "stream",
          "name": "stderr",
          "text": [
            " 19%|█▉        | 2174495/11282490 [31:19<3955:16:57,  1.56s/it]"
          ]
        }
      ]
    },
    {
      "cell_type": "code",
      "source": [
        "while True:\n",
        "    print(\"hello world\")"
      ],
      "metadata": {
        "id": "jU-GLQinyrAL"
      },
      "execution_count": null,
      "outputs": []
    },
    {
      "cell_type": "code",
      "source": [
        "data = np.load(\"/content/test_embeds_seed_0.npz\", allow_pickle=True)['arr_0'][0]"
      ],
      "metadata": {
        "id": "JTxa-vxmreyP"
      },
      "execution_count": null,
      "outputs": []
    },
    {
      "cell_type": "code",
      "source": [
        "data.shape"
      ],
      "metadata": {
        "colab": {
          "base_uri": "https://localhost:8080/"
        },
        "id": "alm3m8-crmcq",
        "outputId": "aed02e0e-4b01-47ba-f6fb-ab6157cc0dea"
      },
      "execution_count": null,
      "outputs": [
        {
          "output_type": "execute_result",
          "data": {
            "text/plain": [
              "(2, 50, 768)"
            ]
          },
          "metadata": {},
          "execution_count": 186
        }
      ]
    },
    {
      "cell_type": "markdown",
      "source": [
        "## Implement the model"
      ],
      "metadata": {
        "id": "2kXdKcJH8hSI"
      }
    },
    {
      "cell_type": "code",
      "source": [
        "class erin_model(nn.Module):\n",
        "    def __init__(self):\n",
        "        super(erin_model,self).__init__()\n",
        "\n",
        "        # Just add one LSTM unit as the model followed by a fully connected layer and then a softmax.\n",
        "\n",
        "        self.lstm = nn.LSTM(input_size=)\n"
      ],
      "metadata": {
        "id": "_xWoyUfr8lSL"
      },
      "execution_count": null,
      "outputs": []
    }
  ],
  "metadata": {
    "colab": {
      "collapsed_sections": [],
      "provenance": [],
      "include_colab_link": true
    },
    "kernelspec": {
      "display_name": "Python 3",
      "name": "python3"
    },
    "language_info": {
      "name": "python"
    }
  },
  "nbformat": 4,
  "nbformat_minor": 0
}